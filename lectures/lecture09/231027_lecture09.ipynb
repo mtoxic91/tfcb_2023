{
 "cells": [
  {
   "attachments": {},
   "cell_type": "markdown",
   "metadata": {},
   "source": [
    "# __Lecture 09: Practical analyses in Python (continued)__\n",
    "\n",
    "----\n",
    "#### __Announcement:__ Homework 4 will be due on Nov 2\n",
    "\n",
    "#### __On Tuesday, we talked about:__\n",
    "- how to define functions in python\n",
    "- the `re` module\n",
    "\n",
    "#### __Today we will:__\n",
    "- practice using the `re` module\n",
    "- learn about (and practice) using the `biopython` module\n",
    "\n",
    "###  \n",
    "----"
   ]
  },
  {
   "attachments": {},
   "cell_type": "markdown",
   "metadata": {},
   "source": [
    "## __Review:__ Regular expressions\n",
    "\n",
    "The `re` module offers a set of functions that allows us to search a string for a match using a __search pattern__ \n",
    "\n",
    "Here are some _common elements_ to have in your search pattern:\n",
    "* __letter characters__ which returns a match where the string contains the specified letter (e.g. `A`, `B`, `C`, ...)\n",
    "* __special characters__ which returns a match where the string contains the specified special character; these must be preceded by a `\\`\n",
    "* `\\d` which returns a match where the string contains __digits__ (numbers from `0`-`9`)\n",
    "\n",
    "You may also want to add the following _customizations_:\n",
    "* `.` matches __any single character__\n",
    "* `[]` specifies a __set of characters__ to search for (e.g. `[a-n]`)\n",
    "* `()` __capture and group__ everything contained inside, and search the string for everything together\n",
    "* `?P<name>` indicates a __named search pattern__ group with name `name`\n",
    "* `+` specifies __one or more occurrences__ of a certain pattern element\n",
    "* `{}` specifies __exactly the specified number of occurrences__ of a certain pattern element\n",
    "* `$` specifies the __end of the string__\n",
    "* `^` specifies the __beginning of the string__"
   ]
  },
  {
   "attachments": {},
   "cell_type": "markdown",
   "metadata": {},
   "source": [
    "Always remember to import the `re` module if you'd like to work with regular expressions:"
   ]
  },
  {
   "cell_type": "code",
   "execution_count": 1,
   "metadata": {},
   "outputs": [],
   "source": [
    "import re"
   ]
  },
  {
   "attachments": {},
   "cell_type": "markdown",
   "metadata": {},
   "source": [
    "## __Review practice:__ using regular expressions to parse barcodes\n",
    "Now we will use regular expressions to parse barcodes from nucleotide sequences.\n",
    "For instance, you might have to do this in a single-cell RNA-seq experiment where there is a barcode at the end of each read telling you the cell that the read came from.\n",
    "\n",
    "Imagine that our valid molecules should have sequences like this:\n",
    "\n",
    "`CTAGCNNNNNNGATCA`\n",
    "\n",
    "See how there is a 6-nucleotide barcode in the center of the sequence.\n",
    "We have a list of sequences, and want to parse through them to figure out which ones meet the expected pattern--and get the barcode from those that do:"
   ]
  },
  {
   "cell_type": "code",
   "execution_count": 2,
   "metadata": {},
   "outputs": [],
   "source": [
    "seqs = ['CTAGCatcgatGATCA',  # has barcode ATCGAT\n",
    "        'CCAGCatagcaGATCA',  # does not have expected 5' sequence\n",
    "        'CTAGCtacagGATCA',   # barcode too short\n",
    "        'CTAGCgaccatGATCA',  # has barcode GACCAT\n",
    "        'CTAGCatcgatGATCA',  # has barcode ATCGAT\n",
    "        'CTAGCatcgatGGTCA',  # does not have expected 3' sequence\n",
    "        ]"
   ]
  },
  {
   "cell_type": "markdown",
   "metadata": {},
   "source": [
    "Write a function that parses these barcoded sequences and gets the ones with valid barcodes.\n",
    "In doing this, note that:\n",
    "\n",
    "  1. If you have a string `s`, `s.upper()` makes it all uppercase.\n",
    "  2. You may want to start searching at the beginning of the string (using the `^` symbol in the search pattern)\n",
    "    \n",
    "Below I've written the function documentation, try to implement it.\n",
    "__Take a few minutes in groups to work through this.__"
   ]
  },
  {
   "cell_type": "code",
   "execution_count": 72,
   "metadata": {},
   "outputs": [
    {
     "name": "stdout",
     "output_type": "stream",
     "text": [
      "<re.Match object; span=(0, 16), match='CTAGCATCGATGATCA'>\n",
      "None\n",
      "None\n",
      "<re.Match object; span=(0, 16), match='CTAGCGACCATGATCA'>\n",
      "<re.Match object; span=(0, 16), match='CTAGCATCGATGATCA'>\n",
      "None\n"
     ]
    },
    {
     "data": {
      "text/plain": [
       "{'ATCGAT': 2, 'GACCAT': 1}"
      ]
     },
     "execution_count": 72,
     "metadata": {},
     "output_type": "execute_result"
    }
   ],
   "source": [
    "def count_barcodes(seqs, bclen=6, upstream='CTAGC', downstream='GATCA'):\n",
    "    \"\"\"Parse and count barcodes.\n",
    "    \n",
    "    Parameters\n",
    "    ----------\n",
    "    seqs : list\n",
    "        DNA sequences.\n",
    "    bclen : int\n",
    "        Length of barcode\n",
    "    upstream : str\n",
    "        Sequence upstream of barcode.\n",
    "    downstream : str\n",
    "        Sequence downstream of barcode.\n",
    "        \n",
    "    Returns\n",
    "    -------\n",
    "    dict\n",
    "        Keyed by each valid barcode, value is number of times the barcode\n",
    "        is observed.\n",
    "        \n",
    "    Note\n",
    "    ----\n",
    "    The function is **not** case-sensitive, and all barcodes are reported\n",
    "    in upper-case.\n",
    "    \n",
    "    \"\"\"\n",
    "    barcode_id = re.compile(upstream + \"(?P<barcode>[ATCG]{\" + str(bclen) + \"})\"+downstream) #bclen is itg so need to conver it to string\n",
    "    barcodes = {}\n",
    "\n",
    "    for seq in seqs:\n",
    "        seq = seq.upper()\n",
    "        match = barcode_id.search(seq)\n",
    "        print(match)\n",
    "        if match: # checks to see if there is a valid match\n",
    "            b = match.group(\"barcode\")\n",
    "            if b in barcodes: # checks to see if b is a key in the dictionary\n",
    "                barcodes[b] += 1\n",
    "            else:\n",
    "                barcodes[b] = 1\n",
    "\n",
    "    return barcodes\n",
    "\n",
    "count_barcodes(seqs)"
   ]
  },
  {
   "cell_type": "code",
   "execution_count": 1,
   "metadata": {},
   "outputs": [],
   "source": [
    "def count_barcodes(seqs, bclen=6, upstream='CTAGC', downstream='GATCA'):\n",
    "    \"\"\"Parse and count barcodes.\n",
    "    \n",
    "    Parameters\n",
    "    ----------\n",
    "    seqs : list\n",
    "        DNA sequences.\n",
    "    bclen : int\n",
    "        Length of barcode\n",
    "    upstream : str\n",
    "        Sequence upstream of barcode.\n",
    "    downstream : str\n",
    "        Sequence downstream of barcode.\n",
    "        \n",
    "    Returns\n",
    "    -------\n",
    "    dict\n",
    "        Keyed by each valid barcode, value is number of times the barcode\n",
    "        is observed.\n",
    "        \n",
    "    Note\n",
    "    ----\n",
    "    The function is **not** case-sensitive, and all barcodes are reported\n",
    "    in upper-case.\n",
    "    \n",
    "    \"\"\"\n",
    "    \n",
    "    \n",
    "    \n",
    "    barcode_id = re.compile(upstream + \"(?P<barcode>[ATCG]{\" + str(bclen) + \"})\" + downstream)\n",
    "    for seq in seqs:\n",
    "        seq = seq.upper()\n",
    "        match = barcode_id.search(seq)\n",
    "        print (match)\n",
    "        return barcode_id"
   ]
  },
  {
   "cell_type": "markdown",
   "metadata": {},
   "source": [
    "Run the function once you've implemented it. Does it give the right result?"
   ]
  },
  {
   "cell_type": "code",
   "execution_count": 31,
   "metadata": {},
   "outputs": [
    {
     "data": {
      "text/plain": [
       "{'ATCGAT': 2, 'GACCAT': 1}"
      ]
     },
     "execution_count": 31,
     "metadata": {},
     "output_type": "execute_result"
    }
   ],
   "source": [
    "count_barcodes(seqs)"
   ]
  },
  {
   "attachments": {},
   "cell_type": "markdown",
   "metadata": {},
   "source": [
    "## __Biopython__\n",
    "[Biopython](https://biopython.org/) is a package that has lots of useful functions for computational biology.\n",
    "\n",
    "It is very handy for things like __reading in sequences__ in many different formats and __processing sequence data__: the subpackage [Bio.SeqIO](https://biopython.org/wiki/SeqIO) is your friend!\n",
    "\n",
    "_(Do note that if you are analyzing truly large datasets, `Biopython` is not very fast and you may want to use something like [pysam](https://pysam.readthedocs.io/en/latest/api.html); but `Biopython` is a good starting point)._\n",
    "\n",
    "### Reading in a file\n",
    "I have included the file [barcodes_R1.fastq](barcodes_R1.fastq), which has some FASTQ sequences in it.\n",
    "\n",
    "Let's use `Biopython` to read the FASTQ entries.\n",
    "\n",
    "First, we'll need to import `Biopython.SeqIO`"
   ]
  },
  {
   "cell_type": "code",
   "execution_count": 2,
   "metadata": {},
   "outputs": [],
   "source": [
    "import Bio.SeqIO"
   ]
  },
  {
   "attachments": {},
   "cell_type": "markdown",
   "metadata": {},
   "source": [
    "Now read in the sequencing reads and convert them to a list:"
   ]
  },
  {
   "cell_type": "code",
   "execution_count": 4,
   "metadata": {},
   "outputs": [],
   "source": [
    "reads = Bio.SeqIO.parse('barcodes_R1.fastq', format='fastq')\n",
    "seqreads = list(reads)"
   ]
  },
  {
   "cell_type": "markdown",
   "metadata": {},
   "source": [
    "How many reads were there?"
   ]
  },
  {
   "cell_type": "code",
   "execution_count": 5,
   "metadata": {},
   "outputs": [
    {
     "data": {
      "text/plain": [
       "10000"
      ]
     },
     "execution_count": 5,
     "metadata": {},
     "output_type": "execute_result"
    }
   ],
   "source": [
    "len(seqreads)"
   ]
  },
  {
   "cell_type": "code",
   "execution_count": 6,
   "metadata": {},
   "outputs": [
    {
     "name": "stdout",
     "output_type": "stream",
     "text": [
      "Found 10000 sequencing reads.\n"
     ]
    }
   ],
   "source": [
    "print(f\"Found {len(seqreads)} sequencing reads.\")"
   ]
  },
  {
   "cell_type": "markdown",
   "metadata": {},
   "source": [
    "Let's look at the first read:"
   ]
  },
  {
   "cell_type": "code",
   "execution_count": 9,
   "metadata": {},
   "outputs": [
    {
     "data": {
      "text/plain": [
       "SeqRecord(seq=Seq('GCTTAAGTTATTTAGTGCGGCCGCCTATGGTGCACTATTATTTATCTATCGTGA...AGA'), id='HISEQ:621:HMJGNBCX2:1:1101:1797:2150', name='HISEQ:621:HMJGNBCX2:1:1101:1797:2150', description='HISEQ:621:HMJGNBCX2:1:1101:1797:2150 1:N:0:ATGTCA', dbxrefs=[])"
      ]
     },
     "execution_count": 9,
     "metadata": {},
     "output_type": "execute_result"
    }
   ],
   "source": [
    "seqreads[0]"
   ]
  },
  {
   "attachments": {},
   "cell_type": "markdown",
   "metadata": {},
   "source": [
    "You can see that `BioPython` reads the sequences in as [SeqRecord](https://biopython.org/wiki/SeqRecord) objects, which have a lot of information, including the header, quality scores, etc.\n",
    "\n",
    "If you want to just access the sequence element of each `SeqRecord`, you can do this as follows:"
   ]
  },
  {
   "cell_type": "code",
   "execution_count": 33,
   "metadata": {},
   "outputs": [
    {
     "data": {
      "text/plain": [
       "Seq('GCTTAAGTTATTTAGTGCGGCCGCCTATGGTGCACTATTATTTATCTATCGTGA...AGA')"
      ]
     },
     "execution_count": 33,
     "metadata": {},
     "output_type": "execute_result"
    }
   ],
   "source": [
    "seqreads[0].seq"
   ]
  },
  {
   "cell_type": "markdown",
   "metadata": {},
   "source": [
    "Let's make a list of sequences from our `seqreads`"
   ]
  },
  {
   "cell_type": "code",
   "execution_count": 36,
   "metadata": {},
   "outputs": [
    {
     "data": {
      "text/plain": [
       "Seq('GCTTAAGTTATTTAGTGCGGCCGCCTATGGTGCACTATTATTTATCTATCGTGA...AGA')"
      ]
     },
     "execution_count": 36,
     "metadata": {},
     "output_type": "execute_result"
    }
   ],
   "source": [
    "seqreads_Seq = []\n",
    "for seqrecord in seqreads:\n",
    "    sequence = seqrecord.seq # isolate the sequence from the seqrecord\n",
    "    seqreads_Seq.append(sequence) # add string sequence to list\n",
    "seqreads_Seq[0]"
   ]
  },
  {
   "cell_type": "code",
   "execution_count": 15,
   "metadata": {},
   "outputs": [
    {
     "data": {
      "text/plain": [
       "[Seq('GCTTAAGTTATTTAGTGCGGCCGCCTATGGTGCACTATTATTTATCTATCGTGA...AGA'),\n",
       " Seq('CTTCCTGGTCACGGTTGCGGCCGCCTATGGTGCATCATTATATGCAAATCCGGC...CGA'),\n",
       " Seq('CACGGCTATTACCCCGCGGCCGCCTATGGTGCACTATTATTTATCTATCGTGAA...CGA'),\n",
       " Seq('TCAGCGATGAATGTGGGCGGCCGCCTATGTTGCATCATTATATGCAAATCCGGC...TGA'),\n",
       " Seq('ATATGGGAGACGATAAGCGGCCGCCTATGGTGCATCATTATATGCAAATCCGGC...CTC')]"
      ]
     },
     "execution_count": 15,
     "metadata": {},
     "output_type": "execute_result"
    }
   ],
   "source": [
    "seqreads_Seq[0:5]"
   ]
  },
  {
   "attachments": {},
   "cell_type": "markdown",
   "metadata": {},
   "source": [
    "These sequences are a `Seq` objects"
   ]
  },
  {
   "cell_type": "code",
   "execution_count": 17,
   "metadata": {},
   "outputs": [
    {
     "data": {
      "text/plain": [
       "Bio.Seq.Seq"
      ]
     },
     "execution_count": 17,
     "metadata": {},
     "output_type": "execute_result"
    }
   ],
   "source": [
    "type(seqreads_Seq[0])"
   ]
  },
  {
   "attachments": {},
   "cell_type": "markdown",
   "metadata": {},
   "source": [
    "If you want to convert the sequences to strings, you can do so as follows:"
   ]
  },
  {
   "cell_type": "code",
   "execution_count": 9,
   "metadata": {},
   "outputs": [
    {
     "data": {
      "text/plain": [
       "'GCTTAAGTTATTTAGTGCGGCCGCCTATGGTGCACTATTATTTATCTATCGTGAAAGGGAGTTCTGCTCCATCAGGCCAAGATCGGAAGAGCACACGTCTGAACTCCAGTCACATGTCAGAATCTCGTATGCCGTCTTCTGCTTGAAAAAAAAAAAAAAGCTGAAATTAATAATTTTGAAACCAGTTTTGTAAACGCAGCACTAAAATGAAGGCATGCAACGACGATGTTTATTGACACGGAATAGCAGA'"
      ]
     },
     "execution_count": 9,
     "metadata": {},
     "output_type": "execute_result"
    }
   ],
   "source": [
    "str(seqreads_Seq[0])"
   ]
  },
  {
   "attachments": {},
   "cell_type": "markdown",
   "metadata": {},
   "source": [
    "Likewise, strings are not `Seq` objects. If you would like to create a `Seq` object from a string, you can do so as follows:"
   ]
  },
  {
   "cell_type": "code",
   "execution_count": 10,
   "metadata": {},
   "outputs": [
    {
     "data": {
      "text/plain": [
       "Seq('ATTGCT')"
      ]
     },
     "execution_count": 10,
     "metadata": {},
     "output_type": "execute_result"
    }
   ],
   "source": [
    "# This requires us to first import the Seq class\n",
    "from Bio.Seq import Seq\n",
    "\n",
    "Seq('ATTGCT')"
   ]
  },
  {
   "attachments": {},
   "cell_type": "markdown",
   "metadata": {},
   "source": [
    "### Built-in methods\n",
    "\n",
    "`Biopython` has many useful built-in functions for working with sequencing data. \n",
    "We will discuss a few examples in class from the submodule [Bio.Seq](https://biopython.org/docs/1.75/api/Bio.Seq.html), but feel free to read about more [here](https://biopython.org/wiki/Seq)"
   ]
  },
  {
   "cell_type": "code",
   "execution_count": 18,
   "metadata": {},
   "outputs": [
    {
     "data": {
      "text/plain": [
       "Seq('GCTTAAGTTATTTAGTGCGGCCGCCTATGGTGCACTATTATTTATCTATCGTGA...AGA')"
      ]
     },
     "execution_count": 18,
     "metadata": {},
     "output_type": "execute_result"
    }
   ],
   "source": [
    "seq = seqreads_Seq[0]\n",
    "seq"
   ]
  },
  {
   "attachments": {},
   "cell_type": "markdown",
   "metadata": {},
   "source": [
    "We can use this module to get the __complement__ and __reverse complement__ of a sequence:"
   ]
  },
  {
   "cell_type": "code",
   "execution_count": 269,
   "metadata": {},
   "outputs": [
    {
     "data": {
      "text/plain": [
       "Seq('CGAATTCAATAAATCACGCCGGCGGATACCACGTGATAATAAATAGATAGCACT...TCT')"
      ]
     },
     "execution_count": 269,
     "metadata": {},
     "output_type": "execute_result"
    }
   ],
   "source": [
    "seq.complement()"
   ]
  },
  {
   "cell_type": "code",
   "execution_count": 271,
   "metadata": {},
   "outputs": [
    {
     "data": {
      "text/plain": [
       "Seq('TCTGCTATTCCGTGTCAATAAACATCGTCGTTGCATGCCTTCATTTTAGTGCTG...AGC')"
      ]
     },
     "execution_count": 271,
     "metadata": {},
     "output_type": "execute_result"
    }
   ],
   "source": [
    "seq.reverse_complement()"
   ]
  },
  {
   "attachments": {},
   "cell_type": "markdown",
   "metadata": {},
   "source": [
    "We can use this module to __transcribe__ and __translate__ a sequence:"
   ]
  },
  {
   "cell_type": "code",
   "execution_count": 14,
   "metadata": {},
   "outputs": [
    {
     "data": {
      "text/plain": [
       "Seq('GCUUAAGUUAUUUAGUGCGGCCGCCUAUGGUGCACUAUUAUUUAUCUAUCGUGA...AGA')"
      ]
     },
     "execution_count": 14,
     "metadata": {},
     "output_type": "execute_result"
    }
   ],
   "source": [
    "seq.transcribe()"
   ]
  },
  {
   "cell_type": "code",
   "execution_count": 16,
   "metadata": {},
   "outputs": [
    {
     "data": {
      "text/plain": [
       "Seq('A*VI*CGRLWCTIIYLS*KGVLLHQAKIGRAHV*TPVTCQNLVCRLLLEKKKKA...E*Q')"
      ]
     },
     "execution_count": 16,
     "metadata": {},
     "output_type": "execute_result"
    }
   ],
   "source": [
    "seq.translate()"
   ]
  },
  {
   "attachments": {},
   "cell_type": "markdown",
   "metadata": {},
   "source": [
    "__If you choose to use these methods, remember that a `Seq` object is not a string. You will need to convert your sequence back to a string before using methods/functions that require strings.__"
   ]
  },
  {
   "attachments": {},
   "cell_type": "markdown",
   "metadata": {},
   "source": [
    "## __A real biological analysis: parsing barcodes__\n",
    "<a id='real_analysis'></a>\n",
    "The reads that we just read as `seqreads_Seq` come from a real sequencing run of influenza virus HA and NA genes.\n",
    "\n",
    "The __actual sequences__ are as follows:\n",
    "\n",
    "    5'-[end of HA/NA]-AGGCGGCCGC-[16 X N barcode]-3'\n",
    "\n",
    "    \n",
    "The __sequencing run reads__ from the reverse end of the molecules (in 5'>3' orientation), so the sequencing reads are as follows:\n",
    "\n",
    "    5'-[reverse complement of 16 X N barcode]-GCGGCCGCCT-[reverse complement of the end of HA/NA]-3'\n",
    "\n",
    "\n"
   ]
  },
  {
   "attachments": {},
   "cell_type": "markdown",
   "metadata": {},
   "source": [
    "We want to determine which reads have valid sequences, get the barcodes out of strings, and count the barcodes.\n",
    "So this requires setting up an analysis that does the following:\n",
    "\n",
    " 1. Get the reverse complement of each read.\n",
    " 2. Determine if it matches the expected pattern (with the correct length barcode and constant sequence)\n",
    " 3. If it matches, extract the barcode and add it to a dictionary to keep track of counts.\n",
    "\n",
    "### __Group activity__\n",
    "In groups, work together to write some code to do this.\n",
    "I have created a code chunk for each step (with some parts filled in). \n",
    "Remember to run the code chunks in the correct order!\n",
    "\n",
    "For your homework, you will be asked to extend this in-class analysis to get statistics for HA and NA seperately."
   ]
  },
  {
   "cell_type": "code",
   "execution_count": 3,
   "metadata": {},
   "outputs": [],
   "source": [
    "# load necessary packages\n",
    "import re\n",
    "import Bio.SeqIO\n",
    "from Bio.Seq import Seq"
   ]
  },
  {
   "attachments": {},
   "cell_type": "markdown",
   "metadata": {},
   "source": [
    "__Step 1:__ You'll need to write a function that identifies a barcode with a known upstream sequence. \n",
    "I've provided the documentation here--__try writing this function on your own.__\n",
    "\n",
    "_Hint: we wrote a similar function yesterday_\n",
    "\n",
    "_Hint 2: You can use the built-in reverse complement method_\n",
    "\n",
    "_Hint 3: You will want to convert the sequence to a string before searching for regular expressions_"
   ]
  },
  {
   "cell_type": "code",
   "execution_count": 3,
   "metadata": {},
   "outputs": [],
   "source": [
    "def read_barcode(seqread, bclen, upstream='AGGCGGCCGC'):\n",
    "    \"\"\"Identify barcode with known upstream sequence.\n",
    "    \n",
    "    Parameters\n",
    "    ----------\n",
    "    seqread : Seq object\n",
    "        Nucleotide sequence read matching UPSTREAM-BARCODE in reverse orientation.\n",
    "    bclen : int\n",
    "        Length of barcode\n",
    "    upstream: str\n",
    "        Sequence upstream of the barcode.\n",
    "        \n",
    "    Returns\n",
    "    -------\n",
    "    str or None\n",
    "        Sequence of the barcode in the forward orientation, or `None` if no match to expected barcoded sequence.\n",
    "        \n",
    "    Example\n",
    "    -------\n",
    "    >>> read_barcode('TTTTTTTTTTTTTTTTGCGGCCGCCT', bclen=16)\n",
    "    'AAAAAAAAAAAAAAAA'\n",
    "        \n",
    "    \"\"\"\n",
    "    sequence = seqread.reverse_complement()\n",
    "    sequence_str = str(sequence)\n",
    "    \n",
    "    barcode_re = re.compile(upstream + \"(?P<barcode>[ATCG]{\" + str(bclen) + \"})$\")\n",
    "    \n",
    "    match = barcode_re.search(sequence_str)\n",
    "    if match:\n",
    "        barcode = match.group(\"barcode\")\n",
    "    else:\n",
    "        barcode = None\n",
    "    \n",
    "    return barcode\n",
    "    \n",
    "#read_barcode(Seq('TTTTTTTTTTTTTTTTGCGGCCGCCT'), bclen=16)\n"
   ]
  },
  {
   "cell_type": "code",
   "execution_count": 4,
   "metadata": {},
   "outputs": [],
   "source": [
    "def read_barcode(seqread, bclen, upstream='AGGCGGCCGC'):\n",
    "\n",
    "    # get the reverse complement of the read\n",
    "    reverse = seqread.reverse_complement(seqread)\n",
    "    \n",
    "    \n",
    "    # compile the barcode search pattern\n",
    "    barcode_pattern = re.compile(upstream + f\"(?P<barcode>[ATCGN]{{{bclen}}})$\")\n",
    "    \n",
    "    # search for the barcode pattern\n",
    "    match = barcode_pattern.search(reverse)\n",
    "    \n",
    "    if match:\n",
    "        barcode = match.group('barcode')\n",
    "        return barcode\n",
    "    else:\n",
    "        return None"
   ]
  },
  {
   "attachments": {},
   "cell_type": "markdown",
   "metadata": {},
   "source": [
    "__Step 2:__ Read sequences from the barcodes_R1.fastq file and create a list of only the sequences (as Seq objects). __We already did this step earlier__"
   ]
  },
  {
   "cell_type": "code",
   "execution_count": 5,
   "metadata": {},
   "outputs": [],
   "source": [
    "# run this code chunk...\n",
    "seqreads = list(Bio.SeqIO.parse('barcodes_R1.fastq', 'fastq'))\n",
    "\n",
    "seqreads_Seq = []\n",
    "for seqrecord in seqreads:\n",
    "    seqreads_Seq.append(seqrecord.seq)\n",
    "\n"
   ]
  },
  {
   "cell_type": "markdown",
   "metadata": {},
   "source": [
    "__Step 3:__ Get the counts of all barcodes. _(Hint: you might want to store barcodes and counts in a dictionary, and also keep track of the number of sequences that don't have a valid barcode)_\n",
    "\n",
    "Please name your dictionary `barcode_counts`"
   ]
  },
  {
   "cell_type": "code",
   "execution_count": 7,
   "metadata": {},
   "outputs": [
    {
     "name": "stdout",
     "output_type": "stream",
     "text": [
      "There were 10000 total sequence reads parsed, and 569 lacked a valid barcode.\n"
     ]
    }
   ],
   "source": [
    "# run this code chunk...\n",
    "seqreads = list(Bio.SeqIO.parse('barcodes_R1.fastq', 'fastq'))\n",
    "\n",
    "seqreads_Seq = []\n",
    "for seqrecord in seqreads:\n",
    "    seqreads_Seq.append(seqrecord.seq)\n",
    "\n",
    "def read_barcode(seqread, bclen=16, upstream='AGGCGGCCGC'):\n",
    "\n",
    "    \n",
    "    sequence = seqread.reverse_complement()\n",
    "    sequence_str = str(sequence)\n",
    "    \n",
    "    barcode_re = re.compile(upstream + \"(?P<barcode>[ATCG]{\" + str(bclen) + \"})$\")\n",
    "    \n",
    "    match = barcode_re.search(sequence_str)\n",
    "\n",
    "    if match:\n",
    "        barcode = match.group(\"barcode\")\n",
    "    else:\n",
    "        barcode = None\n",
    "    \n",
    "    return barcode\n",
    "\n",
    "\n",
    "barcode_counts = {}\n",
    "n_invalid = 0\n",
    "\n",
    "for seq in seqreads_Seq: # iterate through all reads\n",
    "    barcode = read_barcode(seq, bclen = 16, upstream='AGGCGGCCGC')\n",
    "    if barcode: # if there is a valid barcode, add it to the dictionary\n",
    "        if barcode in barcode_counts:\n",
    "            barcode_counts[barcode] += 1\n",
    "        else:\n",
    "            barcode_counts[barcode] = 1\n",
    "    else:\n",
    "        n_invalid += 1\n",
    "\n",
    "print(f\"There were {len(seqreads_Seq)} total sequence reads parsed, and {n_invalid} lacked a valid barcode.\")\n",
    "\n"
   ]
  },
  {
   "cell_type": "code",
   "execution_count": 1,
   "metadata": {},
   "outputs": [
    {
     "ename": "NameError",
     "evalue": "name 'Bio' is not defined",
     "output_type": "error",
     "traceback": [
      "\u001b[0;31m---------------------------------------------------------------------------\u001b[0m",
      "\u001b[0;31mNameError\u001b[0m                                 Traceback (most recent call last)",
      "\u001b[1;32m/workspaces/tfcb_2023/lectures/lecture09/231027_lecture09.ipynb Cell 51\u001b[0m line \u001b[0;36m<cell line: 2>\u001b[0;34m()\u001b[0m\n\u001b[1;32m      <a href='vscode-notebook-cell://dev-container%2B7b22686f737450617468223a22633a5c5c55736572735c5c696e69676d5c5c4465736b746f705c5c4d43423533365c5c746663625f32303233222c226c6f63616c446f636b6572223a66616c73652c22636f6e66696746696c65223a7b22246d6964223a312c22667350617468223a22633a5c5c55736572735c5c696e69676d5c5c4465736b746f705c5c4d43423533365c5c746663625f323032335c5c2e646576636f6e7461696e65725c5c646576636f6e7461696e65722e6a736f6e222c225f736570223a312c2265787465726e616c223a2266696c653a2f2f2f632533412f55736572732f696e69676d2f4465736b746f702f4d43423533362f746663625f323032332f2e646576636f6e7461696e65722f646576636f6e7461696e65722e6a736f6e222c2270617468223a222f633a2f55736572732f696e69676d2f4465736b746f702f4d43423533362f746663625f323032332f2e646576636f6e7461696e65722f646576636f6e7461696e65722e6a736f6e222c22736368656d65223a2266696c65227d7d/workspaces/tfcb_2023/lectures/lecture09/231027_lecture09.ipynb#Y101sdnNjb2RlLXJlbW90ZQ%3D%3D?line=0'>1</a>\u001b[0m \u001b[39m# run this code chunk...\u001b[39;00m\n\u001b[0;32m----> <a href='vscode-notebook-cell://dev-container%2B7b22686f737450617468223a22633a5c5c55736572735c5c696e69676d5c5c4465736b746f705c5c4d43423533365c5c746663625f32303233222c226c6f63616c446f636b6572223a66616c73652c22636f6e66696746696c65223a7b22246d6964223a312c22667350617468223a22633a5c5c55736572735c5c696e69676d5c5c4465736b746f705c5c4d43423533365c5c746663625f323032335c5c2e646576636f6e7461696e65725c5c646576636f6e7461696e65722e6a736f6e222c225f736570223a312c2265787465726e616c223a2266696c653a2f2f2f632533412f55736572732f696e69676d2f4465736b746f702f4d43423533362f746663625f323032332f2e646576636f6e7461696e65722f646576636f6e7461696e65722e6a736f6e222c2270617468223a222f633a2f55736572732f696e69676d2f4465736b746f702f4d43423533362f746663625f323032332f2e646576636f6e7461696e65722f646576636f6e7461696e65722e6a736f6e222c22736368656d65223a2266696c65227d7d/workspaces/tfcb_2023/lectures/lecture09/231027_lecture09.ipynb#Y101sdnNjb2RlLXJlbW90ZQ%3D%3D?line=1'>2</a>\u001b[0m seqreads \u001b[39m=\u001b[39m \u001b[39mlist\u001b[39m(Bio\u001b[39m.\u001b[39mSeqIO\u001b[39m.\u001b[39mparse(\u001b[39m'\u001b[39m\u001b[39mbarcodes_R1.fastq\u001b[39m\u001b[39m'\u001b[39m, \u001b[39m'\u001b[39m\u001b[39mfastq\u001b[39m\u001b[39m'\u001b[39m))\n\u001b[1;32m      <a href='vscode-notebook-cell://dev-container%2B7b22686f737450617468223a22633a5c5c55736572735c5c696e69676d5c5c4465736b746f705c5c4d43423533365c5c746663625f32303233222c226c6f63616c446f636b6572223a66616c73652c22636f6e66696746696c65223a7b22246d6964223a312c22667350617468223a22633a5c5c55736572735c5c696e69676d5c5c4465736b746f705c5c4d43423533365c5c746663625f323032335c5c2e646576636f6e7461696e65725c5c646576636f6e7461696e65722e6a736f6e222c225f736570223a312c2265787465726e616c223a2266696c653a2f2f2f632533412f55736572732f696e69676d2f4465736b746f702f4d43423533362f746663625f323032332f2e646576636f6e7461696e65722f646576636f6e7461696e65722e6a736f6e222c2270617468223a222f633a2f55736572732f696e69676d2f4465736b746f702f4d43423533362f746663625f323032332f2e646576636f6e7461696e65722f646576636f6e7461696e65722e6a736f6e222c22736368656d65223a2266696c65227d7d/workspaces/tfcb_2023/lectures/lecture09/231027_lecture09.ipynb#Y101sdnNjb2RlLXJlbW90ZQ%3D%3D?line=3'>4</a>\u001b[0m seqreads_Seq \u001b[39m=\u001b[39m []\n\u001b[1;32m      <a href='vscode-notebook-cell://dev-container%2B7b22686f737450617468223a22633a5c5c55736572735c5c696e69676d5c5c4465736b746f705c5c4d43423533365c5c746663625f32303233222c226c6f63616c446f636b6572223a66616c73652c22636f6e66696746696c65223a7b22246d6964223a312c22667350617468223a22633a5c5c55736572735c5c696e69676d5c5c4465736b746f705c5c4d43423533365c5c746663625f323032335c5c2e646576636f6e7461696e65725c5c646576636f6e7461696e65722e6a736f6e222c225f736570223a312c2265787465726e616c223a2266696c653a2f2f2f632533412f55736572732f696e69676d2f4465736b746f702f4d43423533362f746663625f323032332f2e646576636f6e7461696e65722f646576636f6e7461696e65722e6a736f6e222c2270617468223a222f633a2f55736572732f696e69676d2f4465736b746f702f4d43423533362f746663625f323032332f2e646576636f6e7461696e65722f646576636f6e7461696e65722e6a736f6e222c22736368656d65223a2266696c65227d7d/workspaces/tfcb_2023/lectures/lecture09/231027_lecture09.ipynb#Y101sdnNjb2RlLXJlbW90ZQ%3D%3D?line=4'>5</a>\u001b[0m \u001b[39mfor\u001b[39;00m seqrecord \u001b[39min\u001b[39;00m seqreads:\n",
      "\u001b[0;31mNameError\u001b[0m: name 'Bio' is not defined"
     ]
    }
   ],
   "source": [
    "# run this code chunk...\n",
    "seqreads = list(Bio.SeqIO.parse('barcodes_R1.fastq', 'fastq'))\n",
    "\n",
    "seqreads_Seq = []\n",
    "for seqrecord in seqreads:\n",
    "    seqreads_Seq.append(seqrecord.seq)\n",
    "\n",
    "def read_barcode(seqread, upstream='CACGATAGATAAATAATAGTGCACCAT'):\n",
    "\n",
    "    \n",
    "    sequence = seqread.reverse_complement()\n",
    "    sequence_str = str(sequence)\n",
    "    \n",
    "    barcode_re = re.compile(upstream + \"(?P<barcode>[ATCG])\")\n",
    "    \n",
    "    match = barcode_re.search(sequence_str)\n",
    "\n",
    "    if match:\n",
    "        barcode = match.group(\"barcode\")\n",
    "    else:\n",
    "        barcode = None\n",
    "    \n",
    "    return barcode\n",
    "\n",
    "\n",
    "barcode_counts = {}\n",
    "n_invalid = 0\n",
    "\n",
    "for seq in seqreads_Seq: # iterate through all reads\n",
    "    barcode = read_barcode(seq, upstream='CACGATAGATAAATAATAGTGCACCAT')\n",
    "    if barcode: # if there is a valid barcode, add it to the dictionary\n",
    "        if barcode in barcode_counts:\n",
    "            barcode_counts[barcode] += 1\n",
    "        else:\n",
    "            barcode_counts[barcode] = 1\n",
    "    else:\n",
    "        n_invalid += 1\n",
    "\n",
    "print(f\"There were {len(seqreads_Seq)} total sequence reads parsed, and {n_invalid} lacked a valid barcode.\")\n",
    "\n"
   ]
  },
  {
   "cell_type": "code",
   "execution_count": null,
   "metadata": {},
   "outputs": [],
   "source": [
    "\n",
    "print(f\"There were {len(seqreads_Seq)} total sequence reads parsed, and {n_invalid} lacked a valid barcode.\")\n"
   ]
  },
  {
   "cell_type": "code",
   "execution_count": null,
   "metadata": {},
   "outputs": [],
   "source": [
    "def extract_barcode_and_gene(read):\n",
    "    # Define the patterns for HA and NA sequences\n",
    "\n",
    "    sequence = seqread.reverse_complement()\n",
    "    sequence_str = str(sequence)\n",
    "\n",
    "    ha_pattern = re.compile(r'CCGGATTTGCATATAATGATGCACCAT')  # Pattern for HA gene\n",
    "    na_pattern = re.compile(r'CACGATAGATAAATAATAGTGCACCAT')  # Pattern for NA gene\n",
    "\n",
    "    # Get the reverse complement of the read\n",
    "    reverse_read = Seq(str(read).reverse_complement())\n",
    "    \n",
    "\n",
    "    # Search for the gene patterns in the reverse complement\n",
    "    ha_match = ha_pattern.search(reverse_read)\n",
    "    na_match = na_pattern.search(reverse_read)"
   ]
  },
  {
   "cell_type": "markdown",
   "metadata": {},
   "source": [
    "__Step 4:__ Report the total number of sequences parsed, and how many lacked a valid barcode."
   ]
  },
  {
   "cell_type": "code",
   "execution_count": 337,
   "metadata": {},
   "outputs": [
    {
     "name": "stdout",
     "output_type": "stream",
     "text": [
      "There were 10000 total sequence reads parsed, and 569 lacked a valid barcode.\n"
     ]
    }
   ],
   "source": [
    "# your code here...\n",
    "print(f\"There were {len(seqreads_Seq)} total sequence reads parsed, and {n_invalid} lacked a valid barcode.\")\n"
   ]
  },
  {
   "cell_type": "code",
   "execution_count": null,
   "metadata": {},
   "outputs": [],
   "source": [
    "# Define the function to extract barcode and identify the gene\n",
    "def extract_barcode_and_gene(seqread):\n",
    "    # Define the patterns for HA and NA sequences\n",
    "    ha_pattern = re.compile(r'CCGGATTTGCATATAATGATGCACCAT')  # Pattern for HA gene\n",
    "    na_pattern = re.compile(r'CACGATAGATAAATAATAGTGCACCAT')  # Pattern for NA gene\n",
    "\n",
    "    # Get the reverse complement of the read\n",
    "    sequence = seqread.reverse_complement()\n",
    "    sequence_str = str(sequence)\n",
    "    \n",
    "\n",
    "    # Search for the gene patterns in the reverse complement\n",
    "    ha_match = ha_pattern.search(sequence_str)\n",
    "    na_match = na_pattern.search(sequence_str)\n",
    "\n",
    "    # Check if the read matches HA or NA gene, extract barcode, and count\n",
    "    if ha_match:\n",
    "        barcode = extract_barcode(sequence_str, ha_match.end())\n",
    "        return 'HA', barcode\n",
    "    elif na_match:\n",
    "        barcode = extract_barcode(sequence_str, na_match.end())\n",
    "        return 'NA', barcode\n",
    "    else:\n",
    "        return None, None  # Return None if neither HA nor NA gene is found\n",
    "    "
   ]
  },
  {
   "cell_type": "code",
   "execution_count": 18,
   "metadata": {},
   "outputs": [],
   "source": [
    "# Define a function to extract the barcode\n",
    "def extract_barcode(seqread, start):\n",
    "    barcode_length = 16\n",
    "    barcode = read[start - barcode_length: start]  # Extract the barcode\n",
    "    return barcode\n",
    "\n",
    "# Create dictionaries to store barcode counts for HA and NA\n",
    "ha_barcodes = {}\n",
    "na_barcodes = {}"
   ]
  },
  {
   "cell_type": "code",
   "execution_count": 19,
   "metadata": {},
   "outputs": [
    {
     "ename": "NameError",
     "evalue": "name 'read' is not defined",
     "output_type": "error",
     "traceback": [
      "\u001b[0;31m---------------------------------------------------------------------------\u001b[0m",
      "\u001b[0;31mNameError\u001b[0m                                 Traceback (most recent call last)",
      "\u001b[1;32m/workspaces/tfcb_2023/lectures/lecture09/231027_lecture09.ipynb Cell 58\u001b[0m line \u001b[0;36m<cell line: 2>\u001b[0;34m()\u001b[0m\n\u001b[1;32m      <a href='vscode-notebook-cell://dev-container%2B7b22686f737450617468223a22633a5c5c55736572735c5c696e69676d5c5c4465736b746f705c5c4d43423533365c5c746663625f32303233222c226c6f63616c446f636b6572223a66616c73652c22636f6e66696746696c65223a7b22246d6964223a312c22667350617468223a22633a5c5c55736572735c5c696e69676d5c5c4465736b746f705c5c4d43423533365c5c746663625f323032335c5c2e646576636f6e7461696e65725c5c646576636f6e7461696e65722e6a736f6e222c225f736570223a312c2265787465726e616c223a2266696c653a2f2f2f632533412f55736572732f696e69676d2f4465736b746f702f4d43423533362f746663625f323032332f2e646576636f6e7461696e65722f646576636f6e7461696e65722e6a736f6e222c2270617468223a222f633a2f55736572732f696e69676d2f4465736b746f702f4d43423533362f746663625f323032332f2e646576636f6e7461696e65722f646576636f6e7461696e65722e6a736f6e222c22736368656d65223a2266696c65227d7d/workspaces/tfcb_2023/lectures/lecture09/231027_lecture09.ipynb#Y112sdnNjb2RlLXJlbW90ZQ%3D%3D?line=0'>1</a>\u001b[0m \u001b[39m# Iterate through the FASTQ file or sequence reads\u001b[39;00m\n\u001b[1;32m      <a href='vscode-notebook-cell://dev-container%2B7b22686f737450617468223a22633a5c5c55736572735c5c696e69676d5c5c4465736b746f705c5c4d43423533365c5c746663625f32303233222c226c6f63616c446f636b6572223a66616c73652c22636f6e66696746696c65223a7b22246d6964223a312c22667350617468223a22633a5c5c55736572735c5c696e69676d5c5c4465736b746f705c5c4d43423533365c5c746663625f323032335c5c2e646576636f6e7461696e65725c5c646576636f6e7461696e65722e6a736f6e222c225f736570223a312c2265787465726e616c223a2266696c653a2f2f2f632533412f55736572732f696e69676d2f4465736b746f702f4d43423533362f746663625f323032332f2e646576636f6e7461696e65722f646576636f6e7461696e65722e6a736f6e222c2270617468223a222f633a2f55736572732f696e69676d2f4465736b746f702f4d43423533362f746663625f323032332f2e646576636f6e7461696e65722f646576636f6e7461696e65722e6a736f6e222c22736368656d65223a2266696c65227d7d/workspaces/tfcb_2023/lectures/lecture09/231027_lecture09.ipynb#Y112sdnNjb2RlLXJlbW90ZQ%3D%3D?line=1'>2</a>\u001b[0m \u001b[39mfor\u001b[39;00m seq \u001b[39min\u001b[39;00m seqreads_Seq:\n\u001b[0;32m----> <a href='vscode-notebook-cell://dev-container%2B7b22686f737450617468223a22633a5c5c55736572735c5c696e69676d5c5c4465736b746f705c5c4d43423533365c5c746663625f32303233222c226c6f63616c446f636b6572223a66616c73652c22636f6e66696746696c65223a7b22246d6964223a312c22667350617468223a22633a5c5c55736572735c5c696e69676d5c5c4465736b746f705c5c4d43423533365c5c746663625f323032335c5c2e646576636f6e7461696e65725c5c646576636f6e7461696e65722e6a736f6e222c225f736570223a312c2265787465726e616c223a2266696c653a2f2f2f632533412f55736572732f696e69676d2f4465736b746f702f4d43423533362f746663625f323032332f2e646576636f6e7461696e65722f646576636f6e7461696e65722e6a736f6e222c2270617468223a222f633a2f55736572732f696e69676d2f4465736b746f702f4d43423533362f746663625f323032332f2e646576636f6e7461696e65722f646576636f6e7461696e65722e6a736f6e222c22736368656d65223a2266696c65227d7d/workspaces/tfcb_2023/lectures/lecture09/231027_lecture09.ipynb#Y112sdnNjb2RlLXJlbW90ZQ%3D%3D?line=2'>3</a>\u001b[0m     gene, barcode \u001b[39m=\u001b[39m extract_barcode_and_gene(seq)\n\u001b[1;32m      <a href='vscode-notebook-cell://dev-container%2B7b22686f737450617468223a22633a5c5c55736572735c5c696e69676d5c5c4465736b746f705c5c4d43423533365c5c746663625f32303233222c226c6f63616c446f636b6572223a66616c73652c22636f6e66696746696c65223a7b22246d6964223a312c22667350617468223a22633a5c5c55736572735c5c696e69676d5c5c4465736b746f705c5c4d43423533365c5c746663625f323032335c5c2e646576636f6e7461696e65725c5c646576636f6e7461696e65722e6a736f6e222c225f736570223a312c2265787465726e616c223a2266696c653a2f2f2f632533412f55736572732f696e69676d2f4465736b746f702f4d43423533362f746663625f323032332f2e646576636f6e7461696e65722f646576636f6e7461696e65722e6a736f6e222c2270617468223a222f633a2f55736572732f696e69676d2f4465736b746f702f4d43423533362f746663625f323032332f2e646576636f6e7461696e65722f646576636f6e7461696e65722e6a736f6e222c22736368656d65223a2266696c65227d7d/workspaces/tfcb_2023/lectures/lecture09/231027_lecture09.ipynb#Y112sdnNjb2RlLXJlbW90ZQ%3D%3D?line=3'>4</a>\u001b[0m     \u001b[39mif\u001b[39;00m gene \u001b[39m==\u001b[39m \u001b[39m'\u001b[39m\u001b[39mHA\u001b[39m\u001b[39m'\u001b[39m:\n\u001b[1;32m      <a href='vscode-notebook-cell://dev-container%2B7b22686f737450617468223a22633a5c5c55736572735c5c696e69676d5c5c4465736b746f705c5c4d43423533365c5c746663625f32303233222c226c6f63616c446f636b6572223a66616c73652c22636f6e66696746696c65223a7b22246d6964223a312c22667350617468223a22633a5c5c55736572735c5c696e69676d5c5c4465736b746f705c5c4d43423533365c5c746663625f323032335c5c2e646576636f6e7461696e65725c5c646576636f6e7461696e65722e6a736f6e222c225f736570223a312c2265787465726e616c223a2266696c653a2f2f2f632533412f55736572732f696e69676d2f4465736b746f702f4d43423533362f746663625f323032332f2e646576636f6e7461696e65722f646576636f6e7461696e65722e6a736f6e222c2270617468223a222f633a2f55736572732f696e69676d2f4465736b746f702f4d43423533362f746663625f323032332f2e646576636f6e7461696e65722f646576636f6e7461696e65722e6a736f6e222c22736368656d65223a2266696c65227d7d/workspaces/tfcb_2023/lectures/lecture09/231027_lecture09.ipynb#Y112sdnNjb2RlLXJlbW90ZQ%3D%3D?line=4'>5</a>\u001b[0m         \u001b[39mif\u001b[39;00m barcode \u001b[39min\u001b[39;00m ha_barcodes:\n",
      "\u001b[1;32m/workspaces/tfcb_2023/lectures/lecture09/231027_lecture09.ipynb Cell 58\u001b[0m line \u001b[0;36mextract_barcode_and_gene\u001b[0;34m(seqread)\u001b[0m\n\u001b[1;32m     <a href='vscode-notebook-cell://dev-container%2B7b22686f737450617468223a22633a5c5c55736572735c5c696e69676d5c5c4465736b746f705c5c4d43423533365c5c746663625f32303233222c226c6f63616c446f636b6572223a66616c73652c22636f6e66696746696c65223a7b22246d6964223a312c22667350617468223a22633a5c5c55736572735c5c696e69676d5c5c4465736b746f705c5c4d43423533365c5c746663625f323032335c5c2e646576636f6e7461696e65725c5c646576636f6e7461696e65722e6a736f6e222c225f736570223a312c2265787465726e616c223a2266696c653a2f2f2f632533412f55736572732f696e69676d2f4465736b746f702f4d43423533362f746663625f323032332f2e646576636f6e7461696e65722f646576636f6e7461696e65722e6a736f6e222c2270617468223a222f633a2f55736572732f696e69676d2f4465736b746f702f4d43423533362f746663625f323032332f2e646576636f6e7461696e65722f646576636f6e7461696e65722e6a736f6e222c22736368656d65223a2266696c65227d7d/workspaces/tfcb_2023/lectures/lecture09/231027_lecture09.ipynb#Y112sdnNjb2RlLXJlbW90ZQ%3D%3D?line=18'>19</a>\u001b[0m     \u001b[39mreturn\u001b[39;00m \u001b[39m'\u001b[39m\u001b[39mHA\u001b[39m\u001b[39m'\u001b[39m, barcode\n\u001b[1;32m     <a href='vscode-notebook-cell://dev-container%2B7b22686f737450617468223a22633a5c5c55736572735c5c696e69676d5c5c4465736b746f705c5c4d43423533365c5c746663625f32303233222c226c6f63616c446f636b6572223a66616c73652c22636f6e66696746696c65223a7b22246d6964223a312c22667350617468223a22633a5c5c55736572735c5c696e69676d5c5c4465736b746f705c5c4d43423533365c5c746663625f323032335c5c2e646576636f6e7461696e65725c5c646576636f6e7461696e65722e6a736f6e222c225f736570223a312c2265787465726e616c223a2266696c653a2f2f2f632533412f55736572732f696e69676d2f4465736b746f702f4d43423533362f746663625f323032332f2e646576636f6e7461696e65722f646576636f6e7461696e65722e6a736f6e222c2270617468223a222f633a2f55736572732f696e69676d2f4465736b746f702f4d43423533362f746663625f323032332f2e646576636f6e7461696e65722f646576636f6e7461696e65722e6a736f6e222c22736368656d65223a2266696c65227d7d/workspaces/tfcb_2023/lectures/lecture09/231027_lecture09.ipynb#Y112sdnNjb2RlLXJlbW90ZQ%3D%3D?line=19'>20</a>\u001b[0m \u001b[39melif\u001b[39;00m na_match:\n\u001b[0;32m---> <a href='vscode-notebook-cell://dev-container%2B7b22686f737450617468223a22633a5c5c55736572735c5c696e69676d5c5c4465736b746f705c5c4d43423533365c5c746663625f32303233222c226c6f63616c446f636b6572223a66616c73652c22636f6e66696746696c65223a7b22246d6964223a312c22667350617468223a22633a5c5c55736572735c5c696e69676d5c5c4465736b746f705c5c4d43423533365c5c746663625f323032335c5c2e646576636f6e7461696e65725c5c646576636f6e7461696e65722e6a736f6e222c225f736570223a312c2265787465726e616c223a2266696c653a2f2f2f632533412f55736572732f696e69676d2f4465736b746f702f4d43423533362f746663625f323032332f2e646576636f6e7461696e65722f646576636f6e7461696e65722e6a736f6e222c2270617468223a222f633a2f55736572732f696e69676d2f4465736b746f702f4d43423533362f746663625f323032332f2e646576636f6e7461696e65722f646576636f6e7461696e65722e6a736f6e222c22736368656d65223a2266696c65227d7d/workspaces/tfcb_2023/lectures/lecture09/231027_lecture09.ipynb#Y112sdnNjb2RlLXJlbW90ZQ%3D%3D?line=20'>21</a>\u001b[0m     barcode \u001b[39m=\u001b[39m extract_barcode(sequence_str, na_match\u001b[39m.\u001b[39;49mend())\n\u001b[1;32m     <a href='vscode-notebook-cell://dev-container%2B7b22686f737450617468223a22633a5c5c55736572735c5c696e69676d5c5c4465736b746f705c5c4d43423533365c5c746663625f32303233222c226c6f63616c446f636b6572223a66616c73652c22636f6e66696746696c65223a7b22246d6964223a312c22667350617468223a22633a5c5c55736572735c5c696e69676d5c5c4465736b746f705c5c4d43423533365c5c746663625f323032335c5c2e646576636f6e7461696e65725c5c646576636f6e7461696e65722e6a736f6e222c225f736570223a312c2265787465726e616c223a2266696c653a2f2f2f632533412f55736572732f696e69676d2f4465736b746f702f4d43423533362f746663625f323032332f2e646576636f6e7461696e65722f646576636f6e7461696e65722e6a736f6e222c2270617468223a222f633a2f55736572732f696e69676d2f4465736b746f702f4d43423533362f746663625f323032332f2e646576636f6e7461696e65722f646576636f6e7461696e65722e6a736f6e222c22736368656d65223a2266696c65227d7d/workspaces/tfcb_2023/lectures/lecture09/231027_lecture09.ipynb#Y112sdnNjb2RlLXJlbW90ZQ%3D%3D?line=21'>22</a>\u001b[0m     \u001b[39mreturn\u001b[39;00m \u001b[39m'\u001b[39m\u001b[39mNA\u001b[39m\u001b[39m'\u001b[39m, barcode\n\u001b[1;32m     <a href='vscode-notebook-cell://dev-container%2B7b22686f737450617468223a22633a5c5c55736572735c5c696e69676d5c5c4465736b746f705c5c4d43423533365c5c746663625f32303233222c226c6f63616c446f636b6572223a66616c73652c22636f6e66696746696c65223a7b22246d6964223a312c22667350617468223a22633a5c5c55736572735c5c696e69676d5c5c4465736b746f705c5c4d43423533365c5c746663625f323032335c5c2e646576636f6e7461696e65725c5c646576636f6e7461696e65722e6a736f6e222c225f736570223a312c2265787465726e616c223a2266696c653a2f2f2f632533412f55736572732f696e69676d2f4465736b746f702f4d43423533362f746663625f323032332f2e646576636f6e7461696e65722f646576636f6e7461696e65722e6a736f6e222c2270617468223a222f633a2f55736572732f696e69676d2f4465736b746f702f4d43423533362f746663625f323032332f2e646576636f6e7461696e65722f646576636f6e7461696e65722e6a736f6e222c22736368656d65223a2266696c65227d7d/workspaces/tfcb_2023/lectures/lecture09/231027_lecture09.ipynb#Y112sdnNjb2RlLXJlbW90ZQ%3D%3D?line=22'>23</a>\u001b[0m \u001b[39melse\u001b[39;00m:\n",
      "\u001b[1;32m/workspaces/tfcb_2023/lectures/lecture09/231027_lecture09.ipynb Cell 58\u001b[0m line \u001b[0;36mextract_barcode\u001b[0;34m(seqread, start)\u001b[0m\n\u001b[1;32m      <a href='vscode-notebook-cell://dev-container%2B7b22686f737450617468223a22633a5c5c55736572735c5c696e69676d5c5c4465736b746f705c5c4d43423533365c5c746663625f32303233222c226c6f63616c446f636b6572223a66616c73652c22636f6e66696746696c65223a7b22246d6964223a312c22667350617468223a22633a5c5c55736572735c5c696e69676d5c5c4465736b746f705c5c4d43423533365c5c746663625f323032335c5c2e646576636f6e7461696e65725c5c646576636f6e7461696e65722e6a736f6e222c225f736570223a312c2265787465726e616c223a2266696c653a2f2f2f632533412f55736572732f696e69676d2f4465736b746f702f4d43423533362f746663625f323032332f2e646576636f6e7461696e65722f646576636f6e7461696e65722e6a736f6e222c2270617468223a222f633a2f55736572732f696e69676d2f4465736b746f702f4d43423533362f746663625f323032332f2e646576636f6e7461696e65722f646576636f6e7461696e65722e6a736f6e222c22736368656d65223a2266696c65227d7d/workspaces/tfcb_2023/lectures/lecture09/231027_lecture09.ipynb#Y112sdnNjb2RlLXJlbW90ZQ%3D%3D?line=1'>2</a>\u001b[0m \u001b[39mdef\u001b[39;00m \u001b[39mextract_barcode\u001b[39m(seqread, start):\n\u001b[1;32m      <a href='vscode-notebook-cell://dev-container%2B7b22686f737450617468223a22633a5c5c55736572735c5c696e69676d5c5c4465736b746f705c5c4d43423533365c5c746663625f32303233222c226c6f63616c446f636b6572223a66616c73652c22636f6e66696746696c65223a7b22246d6964223a312c22667350617468223a22633a5c5c55736572735c5c696e69676d5c5c4465736b746f705c5c4d43423533365c5c746663625f323032335c5c2e646576636f6e7461696e65725c5c646576636f6e7461696e65722e6a736f6e222c225f736570223a312c2265787465726e616c223a2266696c653a2f2f2f632533412f55736572732f696e69676d2f4465736b746f702f4d43423533362f746663625f323032332f2e646576636f6e7461696e65722f646576636f6e7461696e65722e6a736f6e222c2270617468223a222f633a2f55736572732f696e69676d2f4465736b746f702f4d43423533362f746663625f323032332f2e646576636f6e7461696e65722f646576636f6e7461696e65722e6a736f6e222c22736368656d65223a2266696c65227d7d/workspaces/tfcb_2023/lectures/lecture09/231027_lecture09.ipynb#Y112sdnNjb2RlLXJlbW90ZQ%3D%3D?line=2'>3</a>\u001b[0m     barcode_length \u001b[39m=\u001b[39m \u001b[39m16\u001b[39m\n\u001b[0;32m----> <a href='vscode-notebook-cell://dev-container%2B7b22686f737450617468223a22633a5c5c55736572735c5c696e69676d5c5c4465736b746f705c5c4d43423533365c5c746663625f32303233222c226c6f63616c446f636b6572223a66616c73652c22636f6e66696746696c65223a7b22246d6964223a312c22667350617468223a22633a5c5c55736572735c5c696e69676d5c5c4465736b746f705c5c4d43423533365c5c746663625f323032335c5c2e646576636f6e7461696e65725c5c646576636f6e7461696e65722e6a736f6e222c225f736570223a312c2265787465726e616c223a2266696c653a2f2f2f632533412f55736572732f696e69676d2f4465736b746f702f4d43423533362f746663625f323032332f2e646576636f6e7461696e65722f646576636f6e7461696e65722e6a736f6e222c2270617468223a222f633a2f55736572732f696e69676d2f4465736b746f702f4d43423533362f746663625f323032332f2e646576636f6e7461696e65722f646576636f6e7461696e65722e6a736f6e222c22736368656d65223a2266696c65227d7d/workspaces/tfcb_2023/lectures/lecture09/231027_lecture09.ipynb#Y112sdnNjb2RlLXJlbW90ZQ%3D%3D?line=3'>4</a>\u001b[0m     barcode \u001b[39m=\u001b[39m read[start \u001b[39m-\u001b[39m barcode_length: start]  \u001b[39m# Extract the barcode\u001b[39;00m\n\u001b[1;32m      <a href='vscode-notebook-cell://dev-container%2B7b22686f737450617468223a22633a5c5c55736572735c5c696e69676d5c5c4465736b746f705c5c4d43423533365c5c746663625f32303233222c226c6f63616c446f636b6572223a66616c73652c22636f6e66696746696c65223a7b22246d6964223a312c22667350617468223a22633a5c5c55736572735c5c696e69676d5c5c4465736b746f705c5c4d43423533365c5c746663625f323032335c5c2e646576636f6e7461696e65725c5c646576636f6e7461696e65722e6a736f6e222c225f736570223a312c2265787465726e616c223a2266696c653a2f2f2f632533412f55736572732f696e69676d2f4465736b746f702f4d43423533362f746663625f323032332f2e646576636f6e7461696e65722f646576636f6e7461696e65722e6a736f6e222c2270617468223a222f633a2f55736572732f696e69676d2f4465736b746f702f4d43423533362f746663625f323032332f2e646576636f6e7461696e65722f646576636f6e7461696e65722e6a736f6e222c22736368656d65223a2266696c65227d7d/workspaces/tfcb_2023/lectures/lecture09/231027_lecture09.ipynb#Y112sdnNjb2RlLXJlbW90ZQ%3D%3D?line=4'>5</a>\u001b[0m     \u001b[39mreturn\u001b[39;00m barcode\n",
      "\u001b[0;31mNameError\u001b[0m: name 'read' is not defined"
     ]
    }
   ],
   "source": [
    "# Iterate through the FASTQ file or sequence reads\n",
    "for seq in seqreads_Seq:\n",
    "    gene, barcode = extract_barcode_and_gene(seq)\n",
    "    if gene == 'HA':\n",
    "        if barcode in ha_barcodes:\n",
    "            ha_barcodes[barcode] += 1\n",
    "        else:\n",
    "            ha_barcodes[barcode] = 1\n",
    "    elif gene == 'NA':\n",
    "        if barcode in na_barcodes:\n",
    "            na_barcodes[barcode] += 1\n",
    "        else:\n",
    "            na_barcodes[barcode] = 1\n",
    "\n",
    "# Display barcode counts for HA and NA genes\n",
    "print(\"Barcode counts for HA gene:\")\n",
    "print(ha_barcodes)\n",
    "\n",
    "print(\"\\nBarcode counts for NA gene:\")\n",
    "print(na_barcodes)"
   ]
  },
  {
   "cell_type": "code",
   "execution_count": 2,
   "metadata": {},
   "outputs": [
    {
     "ename": "NameError",
     "evalue": "name 'seqs' is not defined",
     "output_type": "error",
     "traceback": [
      "\u001b[0;31m---------------------------------------------------------------------------\u001b[0m",
      "\u001b[0;31mNameError\u001b[0m                                 Traceback (most recent call last)",
      "\u001b[1;32m/workspaces/tfcb_2023/lectures/lecture09/231027_lecture09.ipynb Cell 59\u001b[0m line \u001b[0;36m<cell line: 19>\u001b[0;34m()\u001b[0m\n\u001b[1;32m     <a href='vscode-notebook-cell://dev-container%2B7b22686f737450617468223a22633a5c5c55736572735c5c696e69676d5c5c4465736b746f705c5c4d43423533365c5c746663625f32303233222c226c6f63616c446f636b6572223a66616c73652c22636f6e66696746696c65223a7b22246d6964223a312c22667350617468223a22633a5c5c55736572735c5c696e69676d5c5c4465736b746f705c5c4d43423533365c5c746663625f323032335c5c2e646576636f6e7461696e65725c5c646576636f6e7461696e65722e6a736f6e222c225f736570223a312c2265787465726e616c223a2266696c653a2f2f2f632533412f55736572732f696e69676d2f4465736b746f702f4d43423533362f746663625f323032332f2e646576636f6e7461696e65722f646576636f6e7461696e65722e6a736f6e222c2270617468223a222f633a2f55736572732f696e69676d2f4465736b746f702f4d43423533362f746663625f323032332f2e646576636f6e7461696e65722f646576636f6e7461696e65722e6a736f6e222c22736368656d65223a2266696c65227d7d/workspaces/tfcb_2023/lectures/lecture09/231027_lecture09.ipynb#Y112sdnNjb2RlLXJlbW90ZQ%3D%3D?line=14'>15</a>\u001b[0m                 barcodes[b] \u001b[39m=\u001b[39m \u001b[39m1\u001b[39m\n\u001b[1;32m     <a href='vscode-notebook-cell://dev-container%2B7b22686f737450617468223a22633a5c5c55736572735c5c696e69676d5c5c4465736b746f705c5c4d43423533365c5c746663625f32303233222c226c6f63616c446f636b6572223a66616c73652c22636f6e66696746696c65223a7b22246d6964223a312c22667350617468223a22633a5c5c55736572735c5c696e69676d5c5c4465736b746f705c5c4d43423533365c5c746663625f323032335c5c2e646576636f6e7461696e65725c5c646576636f6e7461696e65722e6a736f6e222c225f736570223a312c2265787465726e616c223a2266696c653a2f2f2f632533412f55736572732f696e69676d2f4465736b746f702f4d43423533362f746663625f323032332f2e646576636f6e7461696e65722f646576636f6e7461696e65722e6a736f6e222c2270617468223a222f633a2f55736572732f696e69676d2f4465736b746f702f4d43423533362f746663625f323032332f2e646576636f6e7461696e65722f646576636f6e7461696e65722e6a736f6e222c22736368656d65223a2266696c65227d7d/workspaces/tfcb_2023/lectures/lecture09/231027_lecture09.ipynb#Y112sdnNjb2RlLXJlbW90ZQ%3D%3D?line=16'>17</a>\u001b[0m     \u001b[39mreturn\u001b[39;00m barcodes\n\u001b[0;32m---> <a href='vscode-notebook-cell://dev-container%2B7b22686f737450617468223a22633a5c5c55736572735c5c696e69676d5c5c4465736b746f705c5c4d43423533365c5c746663625f32303233222c226c6f63616c446f636b6572223a66616c73652c22636f6e66696746696c65223a7b22246d6964223a312c22667350617468223a22633a5c5c55736572735c5c696e69676d5c5c4465736b746f705c5c4d43423533365c5c746663625f323032335c5c2e646576636f6e7461696e65725c5c646576636f6e7461696e65722e6a736f6e222c225f736570223a312c2265787465726e616c223a2266696c653a2f2f2f632533412f55736572732f696e69676d2f4465736b746f702f4d43423533362f746663625f323032332f2e646576636f6e7461696e65722f646576636f6e7461696e65722e6a736f6e222c2270617468223a222f633a2f55736572732f696e69676d2f4465736b746f702f4d43423533362f746663625f323032332f2e646576636f6e7461696e65722f646576636f6e7461696e65722e6a736f6e222c22736368656d65223a2266696c65227d7d/workspaces/tfcb_2023/lectures/lecture09/231027_lecture09.ipynb#Y112sdnNjb2RlLXJlbW90ZQ%3D%3D?line=18'>19</a>\u001b[0m count_barcodes(seqs)\n",
      "\u001b[0;31mNameError\u001b[0m: name 'seqs' is not defined"
     ]
    }
   ],
   "source": [
    "def count_barcodes(seqs, bclen=6, upstream='CTAGC', downstream='GATCA'):\n",
    "\n",
    "    barcode_id = re.compile(upstream + \"(?P<barcode>[ATCG]{\" + str(bclen) + \"})\"+downstream) #bclen is itg so need to conver it to string\n",
    "    barcodes = {}\n",
    "\n",
    "    for seq in seqs:\n",
    "        seq = seq.upper()\n",
    "        match = barcode_id.search(seq)\n",
    "        print(match)\n",
    "        if match: # checks to see if there is a valid match\n",
    "            b = match.group(\"barcode\")\n",
    "            if b in barcodes: # checks to see if b is a key in the dictionary\n",
    "                barcodes[b] += 1\n",
    "            else:\n",
    "                barcodes[b] = 1\n",
    "\n",
    "    return barcodes\n",
    "\n",
    "count_barcodes(seqs)"
   ]
  }
 ],
 "metadata": {
  "kernelspec": {
   "display_name": "Python 3.9.12 ('base')",
   "language": "python",
   "name": "python3"
  },
  "language_info": {
   "codemirror_mode": {
    "name": "ipython",
    "version": 3
   },
   "file_extension": ".py",
   "mimetype": "text/x-python",
   "name": "python",
   "nbconvert_exporter": "python",
   "pygments_lexer": "ipython3",
   "version": "3.9.12"
  },
  "toc": {
   "nav_menu": {},
   "number_sections": false,
   "sideBar": true,
   "skip_h1_title": false,
   "toc_cell": false,
   "toc_position": {
    "height": "623.8px",
    "left": "0px",
    "right": "829.6px",
    "top": "33.2px",
    "width": "322.4px"
   },
   "toc_section_display": "block",
   "toc_window_display": true
  },
  "vscode": {
   "interpreter": {
    "hash": "d4d1e4263499bec80672ea0156c357c1ee493ec2b1c70f0acce89fc37c4a6abe"
   }
  }
 },
 "nbformat": 4,
 "nbformat_minor": 4
}
