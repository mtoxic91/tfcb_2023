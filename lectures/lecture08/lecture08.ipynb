{
 "cells": [
  {
   "attachments": {},
   "cell_type": "markdown",
   "metadata": {},
   "source": [
    "# __Lecture 08: Practical analyses in Python__\n",
    "\n",
    "----\n",
    "#### __Last week, Phil talked about:__\n",
    "- Python! (e.g. data types, lists, dictionaries, flow control)\n",
    "- how to define functions in Python\n",
    "\n",
    "#### __Today we will:__\n",
    "- review functions\n",
    "- introduce regular expressions and the `re` package\n",
    "\n",
    "###  \n",
    "----"
   ]
  },
  {
   "attachments": {},
   "cell_type": "markdown",
   "metadata": {},
   "source": [
    "# __Review__: Defining new functions\n",
    "We use the `def` keyword to define a new function. "
   ]
  },
  {
   "cell_type": "code",
   "execution_count": 8,
   "metadata": {},
   "outputs": [],
   "source": [
    "# functions can take inputs, called \"arguments\" or \"parameters\"\n",
    "def greet(name):\n",
    "    print('Nice to meet you,', name)\n",
    "    return "
   ]
  },
  {
   "cell_type": "code",
   "execution_count": 9,
   "metadata": {},
   "outputs": [
    {
     "name": "stdout",
     "output_type": "stream",
     "text": [
      "Nice to meet you, Sarah\n",
      "Nice to meet you, Nashwa\n"
     ]
    }
   ],
   "source": [
    "greet('Sarah')\n",
    "greet('Nashwa')\n"
   ]
  },
  {
   "attachments": {},
   "cell_type": "markdown",
   "metadata": {},
   "source": [
    "A function won't return an object to you unless you tell it to"
   ]
  },
  {
   "cell_type": "code",
   "execution_count": 10,
   "metadata": {},
   "outputs": [
    {
     "name": "stdout",
     "output_type": "stream",
     "text": [
      "Nice to meet you, Maggie\n"
     ]
    }
   ],
   "source": [
    "s = greet(\"Maggie\")"
   ]
  },
  {
   "cell_type": "code",
   "execution_count": 11,
   "metadata": {},
   "outputs": [
    {
     "name": "stdout",
     "output_type": "stream",
     "text": [
      "None\n"
     ]
    }
   ],
   "source": [
    "print(s)"
   ]
  },
  {
   "attachments": {},
   "cell_type": "markdown",
   "metadata": {},
   "source": [
    "Functions can return results to the caller, using the `return` statement"
   ]
  },
  {
   "cell_type": "code",
   "execution_count": 6,
   "metadata": {},
   "outputs": [],
   "source": [
    "def reverse_complement(seq):\n",
    "    \"\"\"returns the reverse complement of a nucleic acid sequence\"\"\"\n",
    "    base_partner = {'A':'T', 'T':'A', 'C':'G', 'G':'C'}\n",
    "    bwd = ''\n",
    "    # iterate through all bases in the sequence\n",
    "    for base in seq:\n",
    "        # look up the complementary base in the dictionary\n",
    "        pair = base_partner[base]\n",
    "        # add the complentary base to the beginning of the string (reverse comp)\n",
    "        bwd = pair + bwd\n",
    "    return bwd"
   ]
  },
  {
   "cell_type": "code",
   "execution_count": 7,
   "metadata": {},
   "outputs": [
    {
     "name": "stdout",
     "output_type": "stream",
     "text": [
      "fwd= ACGGTAATGATCCTCAG rev= CTGAGGATCATTACCGT\n"
     ]
    }
   ],
   "source": [
    "fwd = 'ACGGTAATGATCCTCAG'\n",
    "rev = reverse_complement( fwd )\n",
    "\n",
    "print('fwd=',fwd,'rev=',rev)"
   ]
  },
  {
   "attachments": {},
   "cell_type": "markdown",
   "metadata": {},
   "source": [
    "Functions can have OPTIONAL ARGUMENTS whose DEFAULT VALUES are pre-specified in the function definition."
   ]
  },
  {
   "cell_type": "code",
   "execution_count": 11,
   "metadata": {},
   "outputs": [],
   "source": [
    "def reverse_complement(seq, unk_partner='N'):\n",
    "    \"\"\"Returns the reverse complement of a nucleic acid sequence\n",
    "    \n",
    "    Uses unk_partner as the partner of unrecognized letters\n",
    "    \"\"\"\n",
    "    base_partner = {'A':'T', 'T':'A', 'C':'G', 'G':'C'}\n",
    "    rseq = ''\n",
    "    # iterate through all bases in the sequence\n",
    "    for a in seq:\n",
    "        # check if the base is in the dictionary\n",
    "        if a in base_partner:\n",
    "            # look up the complementary base in the dictionary\n",
    "            pair = base_partner[a]\n",
    "            # add the complentary base to the beginning of the string (reverse comp)\n",
    "            rseq = pair + rseq\n",
    "        else:\n",
    "            rseq = unk_partner + rseq\n",
    "    return rseq\n"
   ]
  },
  {
   "cell_type": "code",
   "execution_count": 12,
   "metadata": {},
   "outputs": [
    {
     "data": {
      "text/plain": [
       "'GTCGNANTCNGCTACAGT'"
      ]
     },
     "execution_count": 12,
     "metadata": {},
     "output_type": "execute_result"
    }
   ],
   "source": [
    "fwd = 'ACTGTAGCxGAcTNCGAC'\n",
    "\n",
    "reverse_complement(fwd)"
   ]
  },
  {
   "cell_type": "code",
   "execution_count": 13,
   "metadata": {},
   "outputs": [
    {
     "data": {
      "text/plain": [
       "'GTCG-A-TC-GCTACAGT'"
      ]
     },
     "execution_count": 13,
     "metadata": {},
     "output_type": "execute_result"
    }
   ],
   "source": [
    "reverse_complement(fwd, unk_partner='-')"
   ]
  },
  {
   "attachments": {},
   "cell_type": "markdown",
   "metadata": {},
   "source": [
    "Try using `help(reverse_complement)`, `reverse_complement?`, and `reverse_complement??` to see the docstring and source code of our new function. "
   ]
  },
  {
   "cell_type": "code",
   "execution_count": null,
   "metadata": {},
   "outputs": [],
   "source": [
    "help(reverse_complement)\n"
   ]
  },
  {
   "cell_type": "code",
   "execution_count": null,
   "metadata": {},
   "outputs": [],
   "source": [
    "reverse_complement?"
   ]
  },
  {
   "cell_type": "code",
   "execution_count": null,
   "metadata": {},
   "outputs": [],
   "source": [
    "reverse_complement??"
   ]
  },
  {
   "attachments": {},
   "cell_type": "markdown",
   "metadata": {},
   "source": [
    "### __Practice:__\n",
    "\n",
    "#### Write a function that uses a dictionary to count the number of times each base occurs.\n",
    "Be sure to account for sequences that contain uppercase and lowercase bases. I've provided an empty function here (with some docstrings already written). Use the provided test cases check your work."
   ]
  },
  {
   "cell_type": "code",
   "execution_count": 15,
   "metadata": {},
   "outputs": [],
   "source": [
    "def count_bases(seq, case='upper'):\n",
    "    \"\"\"Count the number of times each base occurs in the sequence.\n",
    "    \n",
    "    Parameters\n",
    "    ----------\n",
    "\n",
    "    seq : string\n",
    "        DNA sequence.\n",
    "    case : string, optional\n",
    "        Specifies the case in which to count the bases. Default is 'upper'.\n",
    "        \n",
    "    Returns\n",
    "    -------\n",
    "    dict\n",
    "        Keyed by each nucleotide, value is number of times the nucleotide\n",
    "        is observed in the sequence.\n",
    "    \n",
    "    \"\"\"\n",
    "    counter = {}\n",
    "    if case == 'upper':\n",
    "        seq = seq.upper()\n",
    "    elif case == 'lower':\n",
    "        seq = seq.lower()\n",
    "\n",
    "    for i in seq:\n",
    "        if i in counter:\n",
    "            counter[i] += 1\n",
    "        else:\n",
    "            counter[i]=1\n",
    "    return counter"
   ]
  },
  {
   "cell_type": "code",
   "execution_count": 10,
   "metadata": {},
   "outputs": [],
   "source": [
    "def count_bases(seq, case='upper'):\n",
    "    \"\"\"Count the number of times each base occurs in the sequence.\n",
    "    \n",
    "    Parameters\n",
    "    ----------\n",
    "    seq : string\n",
    "        DNA sequence.\n",
    "    case : string, optional\n",
    "        Specifies the case in which to count the bases. Default is 'upper'.\n",
    "        \n",
    "    Returns\n",
    "    -------\n",
    "    dict\n",
    "        Keyed by each nucleotide, value is number of times the nucleotide\n",
    "        is observed in the sequence.\n",
    "    \n",
    "    \"\"\"\n",
    "    \n",
    "    counter = {}\n",
    "\n",
    "    if case == 'upper':\n",
    "        seq = seq.upper()\n",
    "    elif case == 'lower':\n",
    "        seq = seq.lower()\n",
    "\n",
    "    for i in seq:\n",
    "        if i in counter:\n",
    "            counter[i] += 1\n",
    "        else:\n",
    "            counter[i]= 1\n",
    "\n",
    "\n",
    "    return counter"
   ]
  },
  {
   "cell_type": "code",
   "execution_count": 16,
   "metadata": {},
   "outputs": [
    {
     "data": {
      "text/plain": [
       "{'A': 2, 'T': 2, 'C': 2, 'G': 2}"
      ]
     },
     "execution_count": 16,
     "metadata": {},
     "output_type": "execute_result"
    }
   ],
   "source": [
    "count_bases('AATCGGCT')"
   ]
  },
  {
   "cell_type": "code",
   "execution_count": 17,
   "metadata": {},
   "outputs": [
    {
     "data": {
      "text/plain": [
       "{'A': 2, 'T': 3, 'G': 2, 'C': 1}"
      ]
     },
     "execution_count": 17,
     "metadata": {},
     "output_type": "execute_result"
    }
   ],
   "source": [
    "count_bases('aatTGGcT')"
   ]
  },
  {
   "cell_type": "code",
   "execution_count": 18,
   "metadata": {},
   "outputs": [
    {
     "data": {
      "text/plain": [
       "{'a': 2, 't': 3, 'g': 2, 'c': 1}"
      ]
     },
     "execution_count": 18,
     "metadata": {},
     "output_type": "execute_result"
    }
   ],
   "source": [
    "count_bases('aatTGGcT', case=\"lower\")"
   ]
  },
  {
   "attachments": {},
   "cell_type": "markdown",
   "metadata": {},
   "source": [
    "# __Regular expressions__\n",
    "The `re` module is for \"regular expressions\". \n",
    "These are very useful for parsing strings.\n",
    "\n",
    "A __regular expression__ is a sequence of characters that forms a __search pattern__.\n",
    "They can be used to check if a string contains the specified search pattern.\n",
    "\n",
    "The `re` package offers a set of functions that allows us to search a string for a match. \n",
    "The main functions we will be using are called `search` which allows us to find string matches at any position in the string.\n",
    "We can search for a pattern in a string like this:\n",
    "\n",
    "```\n",
    "import re\n",
    "string = \"This is an example string\"\n",
    "\n",
    "# compile the search pattern\n",
    "search_pattern = re.compile(\"search pattern here\")\n",
    "\n",
    "# search for the search pattern in the string\n",
    "search_pattern.search(string)\n",
    "```\n",
    "\n",
    "#### Here are some common elements to have in your __search pattern__:\n",
    "* letter characters which returns a match where the string contains the specified letter (e.g. `A`, `B`, `C`, ...)\n",
    "* special characters which returns a match where the string contains the specified special character; these must be preceded by a `\\`\n",
    "* `\\d` which returns a match where the string contains digits (numbers from `0`-`9`)\n",
    "\n",
    "#### You may also want to add the following search pattern _customizations_:\n",
    "* `.` matches any single character\n",
    "* `[]` specifies a set of characters to search for (e.g. `[a-n]`)\n",
    "* `()` capture and group everything contained inside, and search the string for everything together\n",
    "* `?P<name>` indicates a search pattern group with name `name`\n",
    "* `+` specifies one or more occurrences of a certain pattern element\n",
    "* `{}` specifies exactly the specified number of occurrences of a certain pattern element\n",
    "* `$` specifies the end of the string\n",
    "* `^` specifies the beginning of the string"
   ]
  },
  {
   "cell_type": "markdown",
   "metadata": {},
   "source": [
    "\n",
    "Here is a common example dealing with influenza.\n",
    "You download some strains from the database, and they have names that look like this:"
   ]
  },
  {
   "cell_type": "code",
   "execution_count": 24,
   "metadata": {},
   "outputs": [],
   "source": [
    "strain = 'A/New York/3/1994 (H3N2)'"
   ]
  },
  {
   "attachments": {},
   "cell_type": "markdown",
   "metadata": {},
   "source": [
    "Say you want to get some information out of these, like the year. Let's build a regular expression that gets the year out of `strain`:"
   ]
  },
  {
   "cell_type": "code",
   "execution_count": 28,
   "metadata": {},
   "outputs": [
    {
     "data": {
      "text/plain": [
       "<re.Match object; span=(13, 17), match='1994'>"
      ]
     },
     "execution_count": 28,
     "metadata": {},
     "output_type": "execute_result"
    }
   ],
   "source": [
    "import re\n",
    "\n",
    "# compile a re for the year\n",
    "yearmatch = re.compile('\\d{4}')\n",
    "\n",
    "# search for the search pattern in the string\n",
    "yearmatch.search(strain)\n"
   ]
  },
  {
   "attachments": {},
   "cell_type": "markdown",
   "metadata": {},
   "source": [
    "Sometimes you may want to include additional search elements that you don't necessarily want to be included in your final search pattern. In this case, you may want to create a named search pattern:"
   ]
  },
  {
   "cell_type": "code",
   "execution_count": 29,
   "metadata": {},
   "outputs": [
    {
     "name": "stdout",
     "output_type": "stream",
     "text": [
      "1994\n"
     ]
    }
   ],
   "source": [
    "# compile a named re for the year\n",
    "named_yearmatch = re.compile('\\/(?P<year>\\d{4})')\n",
    "\n",
    "# search for the search pattern in the string\n",
    "named_search = named_yearmatch.search(strain)\n",
    "\n",
    "# isolate named pattern\n",
    "year = named_search.group('year')\n",
    "\n",
    "print(year)\n"
   ]
  },
  {
   "attachments": {},
   "cell_type": "markdown",
   "metadata": {},
   "source": [
    "There are lots of handy special codes in the Python regular expression module (see [here](https://docs.python.org/3.7/library/re.html)), and you can use them to do almost any type of string matching.\n",
    "\n",
    "I like to test my regular expression calls using [this website](https://regex101.com)"
   ]
  },
  {
   "attachments": {},
   "cell_type": "markdown",
   "metadata": {},
   "source": [
    "### __Practice:__ \n",
    "\n",
    "#### Let's build a regular expression that gets the subtype (e.g. `H3N2`) out the `strain` object\n",
    "\n",
    "_Hints:_\n",
    "- _Be sure to name the search pattern `subtype`_\n",
    "- _Include the parentheses in your search pattern, but not in the final named search pattern_"
   ]
  },
  {
   "cell_type": "code",
   "execution_count": 27,
   "metadata": {},
   "outputs": [
    {
     "name": "stdout",
     "output_type": "stream",
     "text": [
      "re.compile('\\\\((?P<subtype>[A-Z]\\\\d+[A-Z]\\\\d+)\\\\)')\n"
     ]
    },
    {
     "data": {
      "text/plain": [
       "'H3N2'"
      ]
     },
     "execution_count": 27,
     "metadata": {},
     "output_type": "execute_result"
    }
   ],
   "source": [
    "#Lecture\n",
    "subtype_pattern = re.compile(\"\\((?P<subtype>[A-Z]\\d+[A-Z]\\d+)\\)\")\n",
    "print(subtype_pattern)\n",
    "subtype_search = subtype_pattern.search(strain)\n",
    "\n",
    "subtype_search.group('subtype')"
   ]
  },
  {
   "cell_type": "code",
   "execution_count": 31,
   "metadata": {},
   "outputs": [
    {
     "ename": "AttributeError",
     "evalue": "'re.Pattern' object has no attribute 'group'",
     "output_type": "error",
     "traceback": [
      "\u001b[0;31m---------------------------------------------------------------------------\u001b[0m",
      "\u001b[0;31mAttributeError\u001b[0m                            Traceback (most recent call last)",
      "\u001b[1;32m/workspaces/tfcb_2023/lectures/lecture08/lecture08.ipynb Cell 35\u001b[0m line \u001b[0;36m<cell line: 4>\u001b[0;34m()\u001b[0m\n\u001b[1;32m      <a href='vscode-notebook-cell://dev-container%2B7b22686f737450617468223a22633a5c5c55736572735c5c696e69676d5c5c4465736b746f705c5c4d43423533365c5c746663625f32303233222c226c6f63616c446f636b6572223a66616c73652c22636f6e66696746696c65223a7b22246d6964223a312c22667350617468223a22633a5c5c55736572735c5c696e69676d5c5c4465736b746f705c5c4d43423533365c5c746663625f323032335c5c2e646576636f6e7461696e65725c5c646576636f6e7461696e65722e6a736f6e222c225f736570223a312c2265787465726e616c223a2266696c653a2f2f2f632533412f55736572732f696e69676d2f4465736b746f702f4d43423533362f746663625f323032332f2e646576636f6e7461696e65722f646576636f6e7461696e65722e6a736f6e222c2270617468223a222f633a2f55736572732f696e69676d2f4465736b746f702f4d43423533362f746663625f323032332f2e646576636f6e7461696e65722f646576636f6e7461696e65722e6a736f6e222c22736368656d65223a2266696c65227d7d/workspaces/tfcb_2023/lectures/lecture08/lecture08.ipynb#X46sdnNjb2RlLXJlbW90ZQ%3D%3D?line=1'>2</a>\u001b[0m named_subtypesearch \u001b[39m=\u001b[39m re\u001b[39m.\u001b[39mcompile(\u001b[39m'\u001b[39m\u001b[39m\\\u001b[39m\u001b[39m/(?P<subtype>/H/d\u001b[39m\u001b[39m{2}\u001b[39;00m\u001b[39m/N/d\u001b[39m\u001b[39m{2}\u001b[39;00m\u001b[39m)\u001b[39m\u001b[39m'\u001b[39m)\n\u001b[1;32m      <a href='vscode-notebook-cell://dev-container%2B7b22686f737450617468223a22633a5c5c55736572735c5c696e69676d5c5c4465736b746f705c5c4d43423533365c5c746663625f32303233222c226c6f63616c446f636b6572223a66616c73652c22636f6e66696746696c65223a7b22246d6964223a312c22667350617468223a22633a5c5c55736572735c5c696e69676d5c5c4465736b746f705c5c4d43423533365c5c746663625f323032335c5c2e646576636f6e7461696e65725c5c646576636f6e7461696e65722e6a736f6e222c225f736570223a312c2265787465726e616c223a2266696c653a2f2f2f632533412f55736572732f696e69676d2f4465736b746f702f4d43423533362f746663625f323032332f2e646576636f6e7461696e65722f646576636f6e7461696e65722e6a736f6e222c2270617468223a222f633a2f55736572732f696e69676d2f4465736b746f702f4d43423533362f746663625f323032332f2e646576636f6e7461696e65722f646576636f6e7461696e65722e6a736f6e222c22736368656d65223a2266696c65227d7d/workspaces/tfcb_2023/lectures/lecture08/lecture08.ipynb#X46sdnNjb2RlLXJlbW90ZQ%3D%3D?line=2'>3</a>\u001b[0m named_subtypesearch\u001b[39m.\u001b[39msearch(strain)\n\u001b[0;32m----> <a href='vscode-notebook-cell://dev-container%2B7b22686f737450617468223a22633a5c5c55736572735c5c696e69676d5c5c4465736b746f705c5c4d43423533365c5c746663625f32303233222c226c6f63616c446f636b6572223a66616c73652c22636f6e66696746696c65223a7b22246d6964223a312c22667350617468223a22633a5c5c55736572735c5c696e69676d5c5c4465736b746f705c5c4d43423533365c5c746663625f323032335c5c2e646576636f6e7461696e65725c5c646576636f6e7461696e65722e6a736f6e222c225f736570223a312c2265787465726e616c223a2266696c653a2f2f2f632533412f55736572732f696e69676d2f4465736b746f702f4d43423533362f746663625f323032332f2e646576636f6e7461696e65722f646576636f6e7461696e65722e6a736f6e222c2270617468223a222f633a2f55736572732f696e69676d2f4465736b746f702f4d43423533362f746663625f323032332f2e646576636f6e7461696e65722f646576636f6e7461696e65722e6a736f6e222c22736368656d65223a2266696c65227d7d/workspaces/tfcb_2023/lectures/lecture08/lecture08.ipynb#X46sdnNjb2RlLXJlbW90ZQ%3D%3D?line=3'>4</a>\u001b[0m subtype \u001b[39m=\u001b[39m named_subtypesearch\u001b[39m.\u001b[39;49mgroup(\u001b[39m'\u001b[39m\u001b[39msubtype\u001b[39m\u001b[39m'\u001b[39m)\n\u001b[1;32m      <a href='vscode-notebook-cell://dev-container%2B7b22686f737450617468223a22633a5c5c55736572735c5c696e69676d5c5c4465736b746f705c5c4d43423533365c5c746663625f32303233222c226c6f63616c446f636b6572223a66616c73652c22636f6e66696746696c65223a7b22246d6964223a312c22667350617468223a22633a5c5c55736572735c5c696e69676d5c5c4465736b746f705c5c4d43423533365c5c746663625f323032335c5c2e646576636f6e7461696e65725c5c646576636f6e7461696e65722e6a736f6e222c225f736570223a312c2265787465726e616c223a2266696c653a2f2f2f632533412f55736572732f696e69676d2f4465736b746f702f4d43423533362f746663625f323032332f2e646576636f6e7461696e65722f646576636f6e7461696e65722e6a736f6e222c2270617468223a222f633a2f55736572732f696e69676d2f4465736b746f702f4d43423533362f746663625f323032332f2e646576636f6e7461696e65722f646576636f6e7461696e65722e6a736f6e222c22736368656d65223a2266696c65227d7d/workspaces/tfcb_2023/lectures/lecture08/lecture08.ipynb#X46sdnNjb2RlLXJlbW90ZQ%3D%3D?line=4'>5</a>\u001b[0m \u001b[39mprint\u001b[39m(subtype)\n",
      "\u001b[0;31mAttributeError\u001b[0m: 're.Pattern' object has no attribute 'group'"
     ]
    }
   ],
   "source": [
    "# write your code here...\n",
    "named_subtypesearch = re.compile('\\/(?P<subtype>/H/d{2}/N/d{2})')\n",
    "named_subtypesearch.search(strain)\n",
    "subtype = named_subtypesearch.group('subtype')\n",
    "print(subtype)"
   ]
  },
  {
   "cell_type": "code",
   "execution_count": null,
   "metadata": {},
   "outputs": [],
   "source": [
    "strain = 'A/New York/3/1994 (H3N2)'"
   ]
  },
  {
   "attachments": {},
   "cell_type": "markdown",
   "metadata": {},
   "source": [
    "### __Practice:__\n",
    "\n",
    "#### Using regular expressions to parse barcodes\n",
    "\n",
    "Now we will use regular expressions to parse barcodes from nucleotide sequences.\n",
    "For instance, you might have to do this in a single-cell RNA-seq experiment where there is a barcode at the end of each read telling you the cell that the read came from.\n",
    "\n",
    "Imagine that our valid molecules should have sequences like this:\n",
    "\n",
    "`CTAGCNNNNNNGATCA`\n",
    "\n",
    "See how there is a 6-nucleotide barcode in the center of the sequence.\n",
    "We have a list of sequences, and want to parse through them to figure out which ones meet the expected pattern--and get the barcode from those that do:"
   ]
  },
  {
   "cell_type": "code",
   "execution_count": 106,
   "metadata": {},
   "outputs": [],
   "source": [
    "seqs = ['CTAGCatcgatGATCA',  # has barcode ATCGAT\n",
    "        'CCAGCatagcaGATCA',  # does not have expected 5' sequence\n",
    "        'CTAGCtacagGATCA',   # barcode too short\n",
    "        'CTAGCgaccatGATCA',  # has barcode GACCAT\n",
    "        'CTAGCatcgatGATCA',  # has barcode ATCGAT\n",
    "        'CTAGCatcgatGGTCA',  # does not have expected 3' sequence\n",
    "        ]"
   ]
  },
  {
   "attachments": {},
   "cell_type": "markdown",
   "metadata": {},
   "source": [
    "Write a function that parses these barcoded sequences and gets the ones with valid barcodes.\n",
    "In doing this, note that:\n",
    "\n",
    "  1. If you have a string `s`, `s.upper()` makes it all uppercase.\n",
    "  2. You can access elements of a dictionary using a key value like this: `dictionary_name[key_name]`\n",
    "    \n",
    "Below I've written the function documentation, try to implement it.\n",
    "__Take a few minutes in groups to work through this.__"
   ]
  },
  {
   "cell_type": "code",
   "execution_count": 2,
   "metadata": {},
   "outputs": [
    {
     "ename": "IndentationError",
     "evalue": "unindent does not match any outer indentation level (<tokenize>, line 30)",
     "output_type": "error",
     "traceback": [
      "\u001b[0;36m  File \u001b[0;32m<tokenize>:30\u001b[0;36m\u001b[0m\n\u001b[0;31m    barcode_match = re.compile('\\/(?P<barcode>)\\d')\u001b[0m\n\u001b[0m    ^\u001b[0m\n\u001b[0;31mIndentationError\u001b[0m\u001b[0;31m:\u001b[0m unindent does not match any outer indentation level\n"
     ]
    }
   ],
   "source": [
    "def count_barcodes(seqs, bclen=6, upstream='CTAGC', downstream='GATCA'):\n",
    "    \"\"\"Parse and count barcodes.\n",
    "    \n",
    "    Parameters\n",
    "    ----------\n",
    "    seqs : list\n",
    "        DNA sequences.\n",
    "    bclen : int\n",
    "        Length of barcode\n",
    "    upstream : str\n",
    "        Sequence upstream of barcode.\n",
    "    downstream : str\n",
    "        Sequence downstream of barcode.\n",
    "        \n",
    "    Returns\n",
    "    -------\n",
    "    dict\n",
    "        Keyed by each valid barcode, value is number of times the barcode\n",
    "        is observed.\n",
    "        \n",
    "    Note\n",
    "    ----\n",
    "    The function is **not** case-sensitive, and all barcodes are reported\n",
    "    in upper-case.\n",
    "    \n",
    "    \"\"\"\n",
    "    \n",
    "    # your code here ...\n",
    "    \n",
    "   barcode_match = re.compile('\\/(?P<barcode>)\\d') \n",
    "    return None\n"
   ]
  },
  {
   "attachments": {},
   "cell_type": "markdown",
   "metadata": {},
   "source": [
    "Run the function once you've implemented it. Does it give the correct result?"
   ]
  },
  {
   "cell_type": "code",
   "execution_count": 108,
   "metadata": {},
   "outputs": [],
   "source": [
    "count_barcodes(seqs)"
   ]
  }
 ],
 "metadata": {
  "kernelspec": {
   "display_name": "Python 3.9.12 ('base')",
   "language": "python",
   "name": "python3"
  },
  "language_info": {
   "codemirror_mode": {
    "name": "ipython",
    "version": 3
   },
   "file_extension": ".py",
   "mimetype": "text/x-python",
   "name": "python",
   "nbconvert_exporter": "python",
   "pygments_lexer": "ipython3",
   "version": "3.9.12"
  },
  "toc": {
   "nav_menu": {},
   "number_sections": false,
   "sideBar": true,
   "skip_h1_title": false,
   "toc_cell": false,
   "toc_position": {
    "height": "623.8px",
    "left": "0px",
    "right": "829.6px",
    "top": "33.2px",
    "width": "322.4px"
   },
   "toc_section_display": "block",
   "toc_window_display": true
  },
  "vscode": {
   "interpreter": {
    "hash": "d4d1e4263499bec80672ea0156c357c1ee493ec2b1c70f0acce89fc37c4a6abe"
   }
  }
 },
 "nbformat": 4,
 "nbformat_minor": 4
}
