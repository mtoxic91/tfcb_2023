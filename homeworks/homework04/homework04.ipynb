{
 "cells": [
  {
   "attachments": {},
   "cell_type": "markdown",
   "metadata": {},
   "source": [
    "# __Homework 4:__ Practical analysis with BioPython"
   ]
  },
  {
   "attachments": {},
   "cell_type": "markdown",
   "metadata": {},
   "source": [
    "For the homework, you are going to extend the code from the analysis of our FASTQ file in lectures 8 and 9.\n",
    "Recall that the FASTQ file contains reads from a real sequencing run of influenza virus HA and NA genes.\n",
    "\n",
    "---\n",
    "The __actual sequences__ are as follows:\n",
    "\n",
    "    5'-[end of HA]-AGGCGGCCGC-[16 X N barcode]-3'\n",
    "or \n",
    "\n",
    "    5'-[end of NA]-AGGCGGCCGC-[16 X N barcode]-3'\n",
    "---\n",
    "\n",
    "\n",
    "__The end of NA is__ `...CACGATAGATAAATAATAGTGCACCAT`\n",
    "    \n",
    "__The end of HA is__ `...CCGGATTTGCATATAATGATGCACCAT`\n",
    "\n",
    "---    \n",
    "\n",
    "    \n",
    "The __sequencing reads__ from the reverse end of the molecules (in 5'>3' orientation), so the sequencing reads are as follows:\n",
    "\n",
    "    5'-[reverse complement of 16 X N barcode]-GCGGCCGCCT-[reverse complement of the end of HA]-3'\n",
    "or\n",
    "\n",
    "    5'-[reverse complement of 16 X N barcode]-GCGGCCGCCT-[reverse complement of the end of NA]-3'\n",
    "\n",
    "---   \n",
    "    \n",
    "The reads can originate from **either** HA or NA, and that will be distinguished by the most 3' end of the read.\n",
    "But in our example exercise in class, we did not distinguish among reads matching to HA and NA, as we didn't even look far enough into the read to tell the identity.\n",
    "\n",
    "For the homework, your goal is to write code that extends the material from lectures 8 and 9 to also distinguish between HA and NA.\n",
    "This homework can be completed almost entirely by re-using code from lecture 9. You will need to set up your analysis to do the following:\n",
    " 1. Get the reverse complement of each read.\n",
    " 2. Determine if it matches the expected pattern for HA and NA, and if so which one.\n",
    " 3. If it matches, extract the barcode and add it to a dictionary to keep track of counts.\n",
    " 4. Determine the number and distribution of barcodes for HA and NA separately.\n",
    "\n",
    "Please include code to address each of the following questions. Please include code comments to explain what your code is attempting to accomplish. Don't forget to include references to the sources you used to obtain your answer, including your classmates (if you are working in groups).  "
   ]
  },
  {
   "cell_type": "markdown",
   "metadata": {},
   "source": [
    "1. How many reads map to HA, and how many reads map to NA?"
   ]
  },
  {
   "cell_type": "code",
   "execution_count": 61,
   "metadata": {},
   "outputs": [],
   "source": [
    "# load necessary packages\n",
    "import re\n",
    "import Bio.SeqIO\n",
    "from Bio.Seq import Seq\n",
    "\n",
    "#Read fastq and create into list\n",
    "seqreads = list(Bio.SeqIO.parse('barcodes_R1.fastq', 'fastq'))\n",
    "\n",
    "seqreads_Seq = []\n",
    "for seqrecord in seqreads:\n",
    "    seqreads_Seq.append(seqrecord.seq)"
   ]
  },
  {
   "cell_type": "code",
   "execution_count": 75,
   "metadata": {},
   "outputs": [
    {
     "name": "stdout",
     "output_type": "stream",
     "text": [
      "10000\n"
     ]
    }
   ],
   "source": [
    "# Define the patterns for HA and NA sequences\n",
    "# Reference source: Google, GPT, A friend who major CS\n",
    "\n",
    "def extract_barcode_and_gene(seq): \n",
    "    \n",
    "    ha_pattern = re.compile(r'CCGGATTTGCATATAATGATGCACCAT')  # Pattern for HA gene\n",
    "    na_pattern = re.compile(r'CACGATAGATAAATAATAGTGCACCAT')  # Pattern for NA gene\n",
    "\n",
    "    # Convert reverse complement of the seq into string\n",
    "    reverse_seq = str(seq.reverse_complement())\n",
    "\n",
    "    # Search for the gene patterns in the reverse complement\n",
    "    ha_match = ha_pattern.search(reverse_seq)\n",
    "    na_match = na_pattern.search(reverse_seq)\n",
    "\n",
    "    # Check if the seq matches HA or NA gene, extract barcode\n",
    "    if ha_match:\n",
    "        if check_barcode(reverse_seq):\n",
    "            barcode = extract_barcode(reverse_seq)\n",
    "            return 'HA', barcode\n",
    "        else:\n",
    "            return 'HA', None\n",
    "    elif na_match:\n",
    "        if check_barcode(reverse_seq):\n",
    "            barcode = extract_barcode(reverse_seq)\n",
    "            return 'NA', barcode\n",
    "        else:\n",
    "            return 'NA', None\n",
    "    else:\n",
    "        return None, None  # Return None if neither HA nor NA gene is found\n",
    "\n",
    "# Define a function to extract the barcode\n",
    "def extract_barcode(seq, bclen=16):\n",
    "    barcode = seq[-bclen:]  # Extract the barcode\n",
    "    return barcode\n",
    "\n",
    "#Define a function to check the barcode\n",
    "def check_barcode(seq,  bclen=16, upstream='AGGCGGCCGC'):\n",
    "    barcode_re = re.compile(upstream + \"(?P<barcode>[ATCG]{\" + str(bclen) + \"})$\")\n",
    "    \n",
    "    match = barcode_re.search(seq)\n",
    "\n",
    "    if match:\n",
    "        barcode = match.group(\"barcode\")\n",
    "    else:\n",
    "        barcode = None\n",
    "    \n",
    "    return barcode\n",
    "\n",
    "# Create dictionaries for HA and NA barcodes\n",
    "ha_barcodes = {}\n",
    "na_barcodes = {}\n",
    "\n",
    "# Count the barcode for HA or NA\n",
    "valid_ha, valid_na = 0, 0\n",
    "invalid_ha, invalid_na = 0, 0\n",
    "invalid_all = 0\n",
    "\n",
    "for seq in seqreads_Seq: #read seq\n",
    "    gene, barcode = extract_barcode_and_gene(seq)\n",
    "    if gene == 'HA':    #Count HA\n",
    "        if barcode is None:\n",
    "            invalid_ha += 1\n",
    "        elif barcode in ha_barcodes:\n",
    "            ha_barcodes[barcode] += 1\n",
    "            valid_ha += 1\n",
    "        else:\n",
    "            ha_barcodes[barcode] = 1\n",
    "            valid_ha += 1\n",
    "    elif gene == 'NA':  #Count NA\n",
    "        if barcode is None:\n",
    "            invalid_na += 1\n",
    "        elif barcode in na_barcodes:\n",
    "            na_barcodes[barcode] += 1\n",
    "            valid_na += 1\n",
    "        else:\n",
    "            na_barcodes[barcode] = 1\n",
    "            valid_na += 1\n",
    "    else:\n",
    "        invalid_all += 1    #seq without HA nor NA\n",
    "\n",
    "print(valid_ha + valid_na+ invalid_ha + invalid_na + invalid_all) #Check if missing anything\n"
   ]
  },
  {
   "cell_type": "code",
   "execution_count": 70,
   "metadata": {},
   "outputs": [
    {
     "name": "stdout",
     "output_type": "stream",
     "text": [
      "Barcode counts for HA gene: 5409\n",
      "Barcode counts for NA gene: 4122\n"
     ]
    }
   ],
   "source": [
    "# your code here...\n",
    "\n",
    "total_ha = valid_ha + invalid_ha\n",
    "total_na = valid_na + invalid_na\n",
    "print(f\"Barcode counts for HA gene: {total_ha}\")\n",
    "print(f\"Barcode counts for NA gene: {total_na}\")\n",
    "\n"
   ]
  },
  {
   "attachments": {},
   "cell_type": "markdown",
   "metadata": {},
   "source": [
    "2. How many HA sequences did not have a valid barcode? Also anwer the same question for NA."
   ]
  },
  {
   "cell_type": "code",
   "execution_count": 71,
   "metadata": {},
   "outputs": [
    {
     "name": "stdout",
     "output_type": "stream",
     "text": [
      "Invalid barcode counts for HA gene: 164\n",
      "Invalid barcode counts for NA gene: 215\n"
     ]
    }
   ],
   "source": [
    "# your code here...\n",
    "print(f\"Invalid barcode counts for HA gene: {invalid_ha}\")\n",
    "print(f\"Invalid barcode counts for NA gene: {invalid_na}\")"
   ]
  },
  {
   "attachments": {},
   "cell_type": "markdown",
   "metadata": {},
   "source": [
    "3. What is the HA barcode with the most counts (and how many counts)? Also answer the same question for NA.\n",
    "\n",
    "    _Hint: you will need to find the key associated with the maximum value in your dictionary. There are many ways to do this._"
   ]
  },
  {
   "cell_type": "code",
   "execution_count": 73,
   "metadata": {},
   "outputs": [
    {
     "name": "stdout",
     "output_type": "stream",
     "text": [
      "The HA barcode 'CCCGACCCGACATTAA' has the highest count of 155.\n",
      "The NA barcode 'ACCAGTTCTCCCCGGG' has the highest count of 152.\n"
     ]
    }
   ],
   "source": [
    "# your code here...\n",
    "# Search google for max function\n",
    "\n",
    "ha_max_barcode = max(ha_barcodes, key=ha_barcodes.get)\n",
    "ha_max_count = ha_barcodes[ha_max_barcode]\n",
    "\n",
    "print(f\"The HA barcode '{ha_max_barcode}' has the highest count of {ha_max_count}.\")\n",
    "\n",
    "na_max_barcode = max(na_barcodes, key=na_barcodes.get)\n",
    "na_max_count = na_barcodes[na_max_barcode]\n",
    "\n",
    "print(f\"The NA barcode '{na_max_barcode}' has the highest count of {na_max_count}.\")"
   ]
  }
 ],
 "metadata": {
  "kernelspec": {
   "display_name": "Python 3.9.12 ('base')",
   "language": "python",
   "name": "python3"
  },
  "language_info": {
   "codemirror_mode": {
    "name": "ipython",
    "version": 3
   },
   "file_extension": ".py",
   "mimetype": "text/x-python",
   "name": "python",
   "nbconvert_exporter": "python",
   "pygments_lexer": "ipython3",
   "version": "3.9.12"
  },
  "toc": {
   "nav_menu": {},
   "number_sections": false,
   "sideBar": true,
   "skip_h1_title": false,
   "toc_cell": false,
   "toc_position": {
    "height": "623.8px",
    "left": "0px",
    "right": "829.6px",
    "top": "33.2px",
    "width": "322.4px"
   },
   "toc_section_display": "block",
   "toc_window_display": true
  },
  "vscode": {
   "interpreter": {
    "hash": "d4d1e4263499bec80672ea0156c357c1ee493ec2b1c70f0acce89fc37c4a6abe"
   }
  }
 },
 "nbformat": 4,
 "nbformat_minor": 2
}
